{
 "cells": [
  {
   "cell_type": "markdown",
   "id": "f8fa1aa5",
   "metadata": {},
   "source": [
    "## FOR AND WHILE LOOP"
   ]
  },
  {
   "cell_type": "code",
   "execution_count": null,
   "id": "a6e04bd4",
   "metadata": {},
   "outputs": [],
   "source": [
    "import pandas as pd \n",
    "\n",
    "import numpy as np  "
   ]
  },
  {
   "cell_type": "markdown",
   "id": "99296887",
   "metadata": {},
   "source": []
  },
  {
   "cell_type": "code",
   "execution_count": 2,
   "id": "53aef6d8",
   "metadata": {},
   "outputs": [
    {
     "name": "stdout",
     "output_type": "stream",
     "text": [
      "D\n",
      "a\n",
      "r\n",
      "i\n",
      "a\n"
     ]
    }
   ],
   "source": [
    "name = 'Daria'\n",
    "for i in name:\n",
    "    print(i)\n",
    "       "
   ]
  },
  {
   "cell_type": "code",
   "execution_count": 3,
   "id": "0f9fc284",
   "metadata": {},
   "outputs": [
    {
     "name": "stdout",
     "output_type": "stream",
     "text": [
      "D\n",
      "a\n",
      "jiten\n",
      "r\n",
      "i\n",
      "a\n",
      "jiten\n"
     ]
    }
   ],
   "source": [
    "name = 'Daria'\n",
    "for i in name:\n",
    "    print(i)\n",
    "    if(i=='a'):\n",
    "        print('jiten')"
   ]
  },
  {
   "cell_type": "code",
   "execution_count": 4,
   "id": "6989d384",
   "metadata": {},
   "outputs": [
    {
     "name": "stdout",
     "output_type": "stream",
     "text": [
      "Red\n",
      "Blue\n",
      "Yellow\n",
      "Green\n"
     ]
    }
   ],
   "source": [
    "        colors= [\"Red\", \"Blue\", \"Yellow\",\"Green\"]\n",
    "for color in colors:\n",
    "    print(color)"
   ]
  },
  {
   "cell_type": "markdown",
   "id": "2788e22e",
   "metadata": {},
   "source": [
    "\n"
   ]
  },
  {
   "cell_type": "code",
   "execution_count": 5,
   "id": "ec49e75b",
   "metadata": {},
   "outputs": [
    {
     "name": "stdout",
     "output_type": "stream",
     "text": [
      "Red\n",
      "R\n",
      "e\n",
      "d\n",
      "Blue\n",
      "B\n",
      "l\n",
      "u\n",
      "e\n",
      "Yellow\n",
      "Y\n",
      "e\n",
      "l\n",
      "l\n",
      "o\n",
      "w\n",
      "Green\n",
      "G\n",
      "r\n",
      "e\n",
      "e\n",
      "n\n"
     ]
    }
   ],
   "source": [
    "colors= [\"Red\", \"Blue\", \"Yellow\",\"Green\"]\n",
    "for color in colors:\n",
    "    print(color)\n",
    "    for i in color:\n",
    "      print(i)"
   ]
  },
  {
   "cell_type": "code",
   "execution_count": 6,
   "id": "db80518e",
   "metadata": {},
   "outputs": [
    {
     "name": "stdout",
     "output_type": "stream",
     "text": [
      "0\n",
      "1\n",
      "2\n",
      "3\n",
      "4\n"
     ]
    }
   ],
   "source": [
    "for k in range(5):\n",
    "    \n",
    "  print(k)"
   ]
  },
  {
   "cell_type": "code",
   "execution_count": 7,
   "id": "7f460f35",
   "metadata": {},
   "outputs": [
    {
     "name": "stdout",
     "output_type": "stream",
     "text": [
      "1\n",
      "2\n",
      "3\n",
      "4\n",
      "5\n",
      "6\n",
      "7\n",
      "8\n",
      "9\n",
      "10\n",
      "11\n",
      "12\n",
      "13\n",
      "14\n",
      "15\n",
      "16\n",
      "17\n",
      "18\n",
      "19\n",
      "20\n"
     ]
    }
   ],
   "source": [
    "for k in range(0,20):\n",
    "    \n",
    "  print(k+1)"
   ]
  },
  {
   "cell_type": "code",
   "execution_count": 8,
   "id": "353c498e",
   "metadata": {},
   "outputs": [
    {
     "name": "stdout",
     "output_type": "stream",
     "text": [
      "1\n",
      "4\n",
      "7\n",
      "10\n",
      "13\n",
      "16\n",
      "19\n",
      "22\n",
      "25\n",
      "28\n",
      "31\n",
      "34\n",
      "37\n",
      "40\n",
      "43\n",
      "46\n",
      "49\n",
      "52\n",
      "55\n",
      "58\n",
      "61\n",
      "64\n",
      "67\n",
      "70\n",
      "73\n",
      "76\n",
      "79\n",
      "82\n",
      "85\n",
      "88\n",
      "91\n",
      "94\n",
      "97\n"
     ]
    }
   ],
   "source": [
    "for k in range(1,100,3):\n",
    "    \n",
    "  print(k)"
   ]
  },
  {
   "cell_type": "code",
   "execution_count": 9,
   "id": "d57e02df",
   "metadata": {},
   "outputs": [
    {
     "name": "stdout",
     "output_type": "stream",
     "text": [
      "Sum of values: 210\n"
     ]
    }
   ],
   "source": [
    "data = [10, 20, 30, 40, 50, 50]\n",
    "total = 10\n",
    "\n",
    "for value in data:\n",
    "    total = value+total\n",
    "\n",
    "print(\"Sum of values:\", total)  "
   ]
  },
  {
   "cell_type": "code",
   "execution_count": 10,
   "id": "008f3e6d",
   "metadata": {},
   "outputs": [
    {
     "name": "stdout",
     "output_type": "stream",
     "text": [
      "Sum of values: 210\n"
     ]
    }
   ],
   "source": [
    "data = [10, 20, 30, 40, 50, 50]\n",
    "total = 10\n",
    "\n",
    "for value in data:\n",
    "    total += value\n",
    "\n",
    "print(\"Sum of values:\", total)"
   ]
  },
  {
   "cell_type": "code",
   "execution_count": 11,
   "id": "3b51bc5c",
   "metadata": {},
   "outputs": [
    {
     "name": "stdout",
     "output_type": "stream",
     "text": [
      "Rahul\n"
     ]
    }
   ],
   "source": [
    "name = 'Rahul'\n",
    "print(name)"
   ]
  },
  {
   "cell_type": "code",
   "execution_count": 2,
   "id": "388530b2",
   "metadata": {},
   "outputs": [
    {
     "name": "stdout",
     "output_type": "stream",
     "text": [
      "0\n",
      "1\n",
      "2\n"
     ]
    }
   ],
   "source": [
    "for i in range(3):\n",
    "   print(i)"
   ]
  },
  {
   "cell_type": "code",
   "execution_count": 5,
   "id": "89b6aecf",
   "metadata": {},
   "outputs": [
    {
     "name": "stdout",
     "output_type": "stream",
     "text": [
      "0\n",
      "1\n",
      "2\n"
     ]
    }
   ],
   "source": [
    "i=0 \n",
    "while (i<3):\n",
    "    print(i)\n",
    "    i=i+1"
   ]
  },
  {
   "cell_type": "code",
   "execution_count": 6,
   "id": "9f58e03d",
   "metadata": {},
   "outputs": [
    {
     "name": "stdout",
     "output_type": "stream",
     "text": [
      "0\n",
      "1\n",
      "2\n",
      "3\n",
      "done with the loop\n"
     ]
    }
   ],
   "source": [
    "i=0 \n",
    "while (i<=3):\n",
    "    print(i)\n",
    "    i=i+1\n",
    "print(\"done with the loop\")   "
   ]
  },
  {
   "cell_type": "code",
   "execution_count": null,
   "id": "402c0ce4",
   "metadata": {},
   "outputs": [],
   "source": [
    "i= int(input(\"Enter the Number: \"))\n",
    "while (i<=38):\n",
    "    i= int(input(\"Enter the Number: \"))\n",
    "    print(i)\n",
    "    \n",
    "print(\"done with the loop\") "
   ]
  },
  {
   "cell_type": "code",
   "execution_count": 4,
   "id": "4fe2cc43",
   "metadata": {},
   "outputs": [
    {
     "name": "stdout",
     "output_type": "stream",
     "text": [
      "5\n",
      "4\n",
      "3\n",
      "2\n",
      "1\n",
      "done with the loop\n"
     ]
    }
   ],
   "source": [
    "# decrementing loop\n",
    "count=5\n",
    "while (count>0):\n",
    "    print(count)\n",
    "    count=count-1\n",
    "print(\"done with the loop\") "
   ]
  },
  {
   "cell_type": "code",
   "execution_count": 7,
   "id": "8c915647",
   "metadata": {},
   "outputs": [
    {
     "name": "stdout",
     "output_type": "stream",
     "text": [
      "i am inside the else\n"
     ]
    }
   ],
   "source": [
    "# decrementing loop\n",
    "count=-5\n",
    "while (count>0):\n",
    "    print(count)\n",
    "    count=count-1\n",
    "else:    \n",
    "    print(\"i am inside the else\") "
   ]
  },
  {
   "cell_type": "markdown",
   "id": "80d2819f",
   "metadata": {},
   "source": [
    "## BREAK AND CONTINUE STATEMENT"
   ]
  },
  {
   "cell_type": "markdown",
   "id": "ade1b468",
   "metadata": {},
   "source": [
    "#### The break statment enables a program to skip over a part of the code. A break statement terminates the very loop it lies within."
   ]
  },
  {
   "cell_type": "code",
   "execution_count": 11,
   "id": "614982bd",
   "metadata": {},
   "outputs": [
    {
     "name": "stdout",
     "output_type": "stream",
     "text": [
      "5 X 0 = 0\n",
      "5 X 1 = 5\n",
      "5 X 2 = 10\n",
      "5 X 3 = 15\n",
      "5 X 4 = 20\n",
      "5 X 5 = 25\n",
      "5 X 6 = 30\n",
      "5 X 7 = 35\n",
      "5 X 8 = 40\n",
      "5 X 9 = 45\n",
      "loop ko chhodkar nikal gaya\n"
     ]
    }
   ],
   "source": [
    "\n",
    "\n",
    "for i in range(12):\n",
    "    if (i==10):\n",
    "        break\n",
    "    print(\"5 X\", i, \"=\", 5*(i))\n",
    "\n",
    "print(\"loop ko chhodkar nikal gaya\")\n"
   ]
  },
  {
   "cell_type": "code",
   "execution_count": 12,
   "id": "353ad0b6",
   "metadata": {},
   "outputs": [
    {
     "name": "stdout",
     "output_type": "stream",
     "text": [
      "5 X 0 = 0\n",
      "5 X 1 = 5\n",
      "5 X 2 = 10\n",
      "5 X 3 = 15\n",
      "5 X 4 = 20\n",
      "5 X 5 = 25\n",
      "5 X 6 = 30\n",
      "5 X 7 = 35\n",
      "5 X 8 = 40\n",
      "5 X 9 = 45\n",
      "skip the iteration\n",
      "5 X 11 = 55\n"
     ]
    }
   ],
   "source": [
    "\n",
    "for i in range(12):\n",
    "    if (i==10):\n",
    "        print(\"skip the iteration\")\n",
    "        continue\n",
    "    print(\"5 X\", i, \"=\", 5*(i))\n",
    "\n"
   ]
  },
  {
   "cell_type": "code",
   "execution_count": 27,
   "id": "3ce67f3c",
   "metadata": {},
   "outputs": [
    {
     "name": "stdout",
     "output_type": "stream",
     "text": [
      "2\n"
     ]
    }
   ],
   "source": [
    "for i in [2,3,4,6,8,0]:\n",
    "     if(i%2!=0):\n",
    "        break\n",
    "     print(i)  "
   ]
  },
  {
   "cell_type": "code",
   "execution_count": 29,
   "id": "258d5525",
   "metadata": {},
   "outputs": [
    {
     "name": "stdout",
     "output_type": "stream",
     "text": [
      "2\n",
      "4\n",
      "6\n",
      "8\n",
      "0\n"
     ]
    }
   ],
   "source": [
    "for i in [2,3,4,6,8,0]: # skip the iteration where if condition is True\n",
    "     if(i%2!=0):\n",
    "        continue\n",
    "     print(i)"
   ]
  },
  {
   "cell_type": "code",
   "execution_count": 36,
   "id": "5dfeb741",
   "metadata": {},
   "outputs": [
    {
     "name": "stdout",
     "output_type": "stream",
     "text": [
      "1 fuckkkkkofff\n",
      "2 fuckkkkkofff\n",
      "3 fuckkkkkofff\n",
      "4 fuckkkkkofff\n",
      "5 fuckkkkkofff\n",
      "6 fuckkkkkofff\n",
      "7 fuckkkkkofff\n",
      "8 fuckkkkkofff\n",
      "9 fuckkkkkofff\n",
      "10 fuckkkkkofff\n",
      "11 fuckkkkkofff\n",
      "12 fuckkkkkofff\n",
      "13 fuckkkkkofff\n",
      "14 fuckkkkkofff\n",
      "15 fuckkkkkofff\n",
      "16 fuckkkkkofff\n",
      "17 fuckkkkkofff\n",
      "18 fuckkkkkofff\n",
      "19 fuckkkkkofff\n",
      "20 fuckkkkkofff\n",
      "21 fuckkkkkofff\n",
      "22 fuckkkkkofff\n",
      "23 fuckkkkkofff\n",
      "24 fuckkkkkofff\n",
      "25 fuckkkkkofff\n",
      "26 fuckkkkkofff\n",
      "27 fuckkkkkofff\n",
      "28 fuckkkkkofff\n",
      "29 fuckkkkkofff\n",
      "30 fuckkkkkofff\n",
      "31 fuckkkkkofff\n",
      "32 fuckkkkkofff\n",
      "33 fuckkkkkofff\n",
      "34 fuckkkkkofff\n",
      "35 fuckkkkkofff\n",
      "36 fuckkkkkofff\n",
      "37 fuckkkkkofff\n",
      "38 fuckkkkkofff\n",
      "39 fuckkkkkofff\n",
      "40 fuckkkkkofff\n",
      "41 fuckkkkkofff\n",
      "42 fuckkkkkofff\n",
      "43 fuckkkkkofff\n",
      "44 fuckkkkkofff\n",
      "45 fuckkkkkofff\n",
      "46 fuckkkkkofff\n",
      "47 fuckkkkkofff\n",
      "48 fuckkkkkofff\n",
      "49 fuckkkkkofff\n",
      "50 Thank you\n"
     ]
    }
   ],
   "source": [
    "for i in range(1,101,1):    # skip the iteration where if condition is True\n",
    "    print(i, end=\" \")\n",
    "    \n",
    "    if(i==50):\n",
    "        break\n",
    "    else:\n",
    "        print(\"fuckkkkkofff\")\n",
    "print(\"Thank you\")"
   ]
  },
  {
   "cell_type": "code",
   "execution_count": 41,
   "id": "189bff09",
   "metadata": {},
   "outputs": [
    {
     "name": "stdout",
     "output_type": "stream",
     "text": [
      "0\n",
      "1\n",
      "2\n",
      "3\n",
      "4\n",
      "5\n",
      "6\n",
      "7\n",
      "8\n",
      "9\n"
     ]
    }
   ],
   "source": [
    "i =0\n",
    "while True:\n",
    "    print(i)\n",
    "    i=i+1\n",
    "    if(i%10==0):\n",
    "        break"
   ]
  },
  {
   "cell_type": "code",
   "execution_count": null,
   "id": "455d148e",
   "metadata": {},
   "outputs": [],
   "source": []
  },
  {
   "cell_type": "code",
   "execution_count": 53,
   "id": "f20c27ff",
   "metadata": {},
   "outputs": [
    {
     "name": "stdin",
     "output_type": "stream",
     "text": [
      "Enter a positive number:  0\n"
     ]
    },
    {
     "name": "stdout",
     "output_type": "stream",
     "text": [
      "Please enter a positive number.\n"
     ]
    },
    {
     "name": "stdin",
     "output_type": "stream",
     "text": [
      "Enter a positive number:  9\n"
     ]
    },
    {
     "name": "stdout",
     "output_type": "stream",
     "text": [
      "9\n"
     ]
    }
   ],
   "source": [
    "while True:\n",
    "    number = int(input(\"Enter a positive number: \"))\n",
    "\n",
    "    if number > 0:\n",
    "        print(number)\n",
    "        break\n",
    "    else:\n",
    "        print(\"Please enter a positive number.\")"
   ]
  },
  {
   "cell_type": "markdown",
   "id": "1e2565ea",
   "metadata": {},
   "source": [
    "## taking user input"
   ]
  },
  {
   "cell_type": "code",
   "execution_count": 1,
   "id": "894e211e",
   "metadata": {},
   "outputs": [
    {
     "name": "stdin",
     "output_type": "stream",
     "text": [
      "Enter your name  jitendra\n"
     ]
    },
    {
     "name": "stdout",
     "output_type": "stream",
     "text": [
      "My name is  jitendra\n"
     ]
    }
   ],
   "source": [
    "a = input(\"Enter your name \")\n",
    "print(\"My name is \", a)"
   ]
  },
  {
   "cell_type": "code",
   "execution_count": null,
   "id": "e0a4e62d",
   "metadata": {},
   "outputs": [],
   "source": [
    "x = input(\"Enter first number: \")\n",
    "y = input(\"Enter second number: \")\n",
    "print(x+y)  # it gives the sum of the memory used by character \n",
    "print(int(x)+int(y))"
   ]
  },
  {
   "cell_type": "code",
   "execution_count": null,
   "id": "e45f486d",
   "metadata": {},
   "outputs": [],
   "source": []
  }
 ],
 "metadata": {
  "kernelspec": {
   "display_name": "conda_python3",
   "language": "python",
   "name": "conda_python3"
  },
  "language_info": {
   "codemirror_mode": {
    "name": "ipython",
    "version": 3
   },
   "file_extension": ".py",
   "mimetype": "text/x-python",
   "name": "python",
   "nbconvert_exporter": "python",
   "pygments_lexer": "ipython3",
   "version": "3.6.13"
  }
 },
 "nbformat": 4,
 "nbformat_minor": 5
}
