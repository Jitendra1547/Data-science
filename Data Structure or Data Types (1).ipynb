{
 "cells": [
  {
   "cell_type": "code",
   "execution_count": null,
   "id": "122b9513",
   "metadata": {},
   "outputs": [],
   "source": [
    "import pandas as pd\n",
    "import numpy as np\n",
    "import matplotlib.pyplot as plt\n",
    "import seaborn as sns\n",
    "import aws_connection\n",
    "sw = aws_connection.get_connection()"
   ]
  },
  {
   "cell_type": "code",
   "execution_count": 2,
   "id": "a1763694",
   "metadata": {},
   "outputs": [],
   "source": [
    "#df = pd.read_sql(f'''  select * from  loan_application limit 90''', sw)"
   ]
  },
  {
   "cell_type": "code",
   "execution_count": null,
   "id": "0485a24f",
   "metadata": {},
   "outputs": [],
   "source": []
  },
  {
   "cell_type": "code",
   "execution_count": null,
   "id": "8a919c0c",
   "metadata": {},
   "outputs": [],
   "source": []
  },
  {
   "cell_type": "markdown",
   "id": "39db7a84",
   "metadata": {},
   "source": [
    "# Data Structure"
   ]
  },
  {
   "cell_type": "markdown",
   "id": "10a66100",
   "metadata": {},
   "source": [
    "\n",
    "# 1. Lists:\n",
    "####  Lists are ordered, mutable (modifiable), and can store elements of different data types. They are enclosed in square brackets [ ] and support indexing and slicing to access elements."
   ]
  },
  {
   "cell_type": "code",
   "execution_count": 3,
   "id": "bf7470f6",
   "metadata": {},
   "outputs": [
    {
     "name": "stdout",
     "output_type": "stream",
     "text": [
      "['Jitu', 'Shivani', 'Rani', 'Sambit']\n",
      "Jitu\n",
      "['Shivani', 'Rani', 'Sambit']\n",
      "['Jitu', 'Shivani', 'kiwi', 'Sambit']\n",
      "['Jitu', 'Shivani', 'kiwi', 'Sambit', 'mango']\n",
      "['Jitu', 'Shivani', 'kiwi', 'mango']\n"
     ]
    }
   ],
   "source": [
    "# Creating a list\n",
    "Emp = ['Jitu', 'Shivani', 'Rani', 'Sambit']\n",
    "print(Emp)\n",
    "# Accessing elements\n",
    "print(Emp[0])    # Output: 'apple'\n",
    "print(Emp[1:])   # Output: ['banana', 'orange', 'grape']\n",
    "\n",
    "# Modifying elements\n",
    "Emp[2] = 'kiwi'\n",
    "print(Emp)       # Output: ['apple', 'banana', 'kiwi', 'grape']\n",
    "\n",
    "# Adding elements\n",
    "Emp.append('mango')\n",
    "print(Emp)       # Output: ['apple', 'banana', 'kiwi', 'grape', 'mango']\n",
    "\n",
    "# Removing elements\n",
    "Emp.remove('Sambit')\n",
    "print(Emp)       # Output: ['apple', 'kiwi', 'grape', 'mango']\n"
   ]
  },
  {
   "cell_type": "code",
   "execution_count": 4,
   "id": "36fc97eb",
   "metadata": {},
   "outputs": [],
   "source": [
    "Table1 = [1,2,3,4,5,6,11]\n",
    "Table2 = [7,8,9,10]"
   ]
  },
  {
   "cell_type": "code",
   "execution_count": 5,
   "id": "c13922a1",
   "metadata": {},
   "outputs": [
    {
     "data": {
      "text/plain": [
       "[1, 2, 3, 4, 5, 6, 11, 7, 8, 9, 10]"
      ]
     },
     "execution_count": 5,
     "metadata": {},
     "output_type": "execute_result"
    }
   ],
   "source": [
    "Table1 + Table2"
   ]
  },
  {
   "cell_type": "code",
   "execution_count": 6,
   "id": "3153f2d0",
   "metadata": {},
   "outputs": [
    {
     "data": {
      "text/plain": [
       "[1, 2, 3, 4, 5, 6, 11, 1, 2, 3, 4, 5, 6, 11]"
      ]
     },
     "execution_count": 6,
     "metadata": {},
     "output_type": "execute_result"
    }
   ],
   "source": [
    "Table1*2"
   ]
  },
  {
   "cell_type": "code",
   "execution_count": 84,
   "id": "436e8730",
   "metadata": {},
   "outputs": [],
   "source": [
    "my_list = [1, 2, 3, 4, 5]"
   ]
  },
  {
   "cell_type": "code",
   "execution_count": 8,
   "id": "b88b9da0",
   "metadata": {},
   "outputs": [],
   "source": [
    "my_list.append(6)  #to add an element at the end of the list"
   ]
  },
  {
   "cell_type": "code",
   "execution_count": 9,
   "id": "50c51842",
   "metadata": {},
   "outputs": [
    {
     "data": {
      "text/plain": [
       "[1, 2, 3, 4, 5, 6]"
      ]
     },
     "execution_count": 9,
     "metadata": {},
     "output_type": "execute_result"
    }
   ],
   "source": [
    "my_list"
   ]
  },
  {
   "cell_type": "code",
   "execution_count": 10,
   "id": "4e0c6be4",
   "metadata": {},
   "outputs": [],
   "source": [
    "my_list.insert(2, 10)  # Inserts 7 at index 2"
   ]
  },
  {
   "cell_type": "code",
   "execution_count": 85,
   "id": "93d17a41",
   "metadata": {},
   "outputs": [
    {
     "data": {
      "text/plain": [
       "[1, 2, 3, 4, 5]"
      ]
     },
     "execution_count": 85,
     "metadata": {},
     "output_type": "execute_result"
    }
   ],
   "source": [
    "my_list"
   ]
  },
  {
   "cell_type": "code",
   "execution_count": 12,
   "id": "d3a9f5c7",
   "metadata": {},
   "outputs": [],
   "source": [
    "my_list[1] = 8  # Updates the element at index 1 to 8"
   ]
  },
  {
   "cell_type": "code",
   "execution_count": 13,
   "id": "6b56e2b0",
   "metadata": {},
   "outputs": [
    {
     "data": {
      "text/plain": [
       "[1, 8, 10, 3, 4, 5, 6]"
      ]
     },
     "execution_count": 13,
     "metadata": {},
     "output_type": "execute_result"
    }
   ],
   "source": [
    "my_list"
   ]
  },
  {
   "cell_type": "code",
   "execution_count": 86,
   "id": "12a34511",
   "metadata": {},
   "outputs": [],
   "source": [
    "my_list.remove(5)  # Removes the element with the value 5\n",
    "popped_element = my_list.pop(2)  # Removes and returns the element at index 2\n"
   ]
  },
  {
   "cell_type": "code",
   "execution_count": 87,
   "id": "220333f5",
   "metadata": {},
   "outputs": [
    {
     "data": {
      "text/plain": [
       "3"
      ]
     },
     "execution_count": 87,
     "metadata": {},
     "output_type": "execute_result"
    }
   ],
   "source": [
    "popped_element"
   ]
  },
  {
   "cell_type": "code",
   "execution_count": 89,
   "id": "1d2885a6",
   "metadata": {},
   "outputs": [
    {
     "data": {
      "text/plain": [
       "[1, 2, 4]"
      ]
     },
     "execution_count": 89,
     "metadata": {},
     "output_type": "execute_result"
    }
   ],
   "source": [
    "my_list\n"
   ]
  },
  {
   "cell_type": "code",
   "execution_count": 17,
   "id": "0530acac",
   "metadata": {},
   "outputs": [],
   "source": [
    "index = my_list.index(3)  # Finds the index of the element with the value 3\n"
   ]
  },
  {
   "cell_type": "code",
   "execution_count": 18,
   "id": "710e4f14",
   "metadata": {},
   "outputs": [
    {
     "data": {
      "text/plain": [
       "2"
      ]
     },
     "execution_count": 18,
     "metadata": {},
     "output_type": "execute_result"
    }
   ],
   "source": [
    "index"
   ]
  },
  {
   "cell_type": "code",
   "execution_count": 19,
   "id": "b89df70b",
   "metadata": {},
   "outputs": [
    {
     "data": {
      "text/plain": [
       "[8, 3, 4]"
      ]
     },
     "execution_count": 19,
     "metadata": {},
     "output_type": "execute_result"
    }
   ],
   "source": [
    "sub_list = my_list[1:4]  # Creates a sub-list from index 1 to 3  (not include last wala index)\n",
    "sub_list"
   ]
  },
  {
   "cell_type": "code",
   "execution_count": 20,
   "id": "6f4978c0",
   "metadata": {},
   "outputs": [
    {
     "data": {
      "text/plain": [
       "5"
      ]
     },
     "execution_count": 20,
     "metadata": {},
     "output_type": "execute_result"
    }
   ],
   "source": [
    "length = len(my_list)\n",
    "length"
   ]
  },
  {
   "cell_type": "code",
   "execution_count": 21,
   "id": "7fd5fbe2",
   "metadata": {},
   "outputs": [
    {
     "data": {
      "text/plain": [
       "[1, 3, 4, 6, 8]"
      ]
     },
     "execution_count": 21,
     "metadata": {},
     "output_type": "execute_result"
    }
   ],
   "source": [
    "my_list.sort()  # Sorts the list in ascending order\n",
    "sorted_list = sorted(my_list)  # Creates a new sorted list\n",
    "sorted_list"
   ]
  },
  {
   "cell_type": "code",
   "execution_count": 22,
   "id": "fe4723be",
   "metadata": {},
   "outputs": [
    {
     "data": {
      "text/plain": [
       "[8, 6, 4, 3, 1]"
      ]
     },
     "execution_count": 22,
     "metadata": {},
     "output_type": "execute_result"
    }
   ],
   "source": [
    "my_list.reverse()  # Reverses the order of elements\n",
    "my_list"
   ]
  },
  {
   "cell_type": "code",
   "execution_count": 23,
   "id": "756ae0b2",
   "metadata": {},
   "outputs": [
    {
     "data": {
      "text/plain": [
       "False"
      ]
     },
     "execution_count": 23,
     "metadata": {},
     "output_type": "execute_result"
    }
   ],
   "source": [
    "exists = 10 in my_list  # Checks if 3 is in the list\n",
    "exists"
   ]
  },
  {
   "cell_type": "code",
   "execution_count": 4,
   "id": "29812a20",
   "metadata": {},
   "outputs": [
    {
     "name": "stdout",
     "output_type": "stream",
     "text": [
      "[0, 1, 4, 9, 16, 25, 36, 49, 64, 81]\n",
      "[0, 4, 16, 36, 64]\n"
     ]
    }
   ],
   "source": [
    "lst =  [i*i for i in range(10)]\n",
    "print(lst)\n",
    "\n",
    "lst = [i*i for i in range(10) if i%2==0]\n",
    "print(lst)"
   ]
  },
  {
   "cell_type": "markdown",
   "id": "210617aa",
   "metadata": {},
   "source": [
    "# 2.Tuples:\n",
    "#### Tuples are ordered, immutable (cannot be changed after creation), and use parentheses ( ) to define elements. They are useful for representing fixed collections of items."
   ]
  },
  {
   "cell_type": "code",
   "execution_count": 18,
   "id": "8b1a814e",
   "metadata": {},
   "outputs": [
    {
     "name": "stdout",
     "output_type": "stream",
     "text": [
      "<class 'tuple'> (1, 2)\n"
     ]
    }
   ],
   "source": [
    "tup = (1,2)\n",
    "print(type(tup),tup)"
   ]
  },
  {
   "cell_type": "code",
   "execution_count": 20,
   "id": "c7273438",
   "metadata": {},
   "outputs": [
    {
     "ename": "TypeError",
     "evalue": "'tuple' object does not support item assignment",
     "output_type": "error",
     "traceback": [
      "\u001b[0;31m---------------------------------------------------------------------------\u001b[0m",
      "\u001b[0;31mTypeError\u001b[0m                                 Traceback (most recent call last)",
      "\u001b[0;32m<ipython-input-20-372cb106cfc1>\u001b[0m in \u001b[0;36m<module>\u001b[0;34m\u001b[0m\n\u001b[0;32m----> 1\u001b[0;31m \u001b[0mtup\u001b[0m\u001b[0;34m[\u001b[0m\u001b[0;36m0\u001b[0m\u001b[0;34m]\u001b[0m\u001b[0;34m=\u001b[0m\u001b[0;36m90\u001b[0m\u001b[0;34m\u001b[0m\u001b[0;34m\u001b[0m\u001b[0m\n\u001b[0m",
      "\u001b[0;31mTypeError\u001b[0m: 'tuple' object does not support item assignment"
     ]
    }
   ],
   "source": [
    "tup[0]=90"
   ]
  },
  {
   "cell_type": "code",
   "execution_count": 47,
   "id": "51f1e74d",
   "metadata": {},
   "outputs": [
    {
     "ename": "AttributeError",
     "evalue": "'tuple' object has no attribute 'append'",
     "output_type": "error",
     "traceback": [
      "\u001b[0;31m---------------------------------------------------------------------------\u001b[0m",
      "\u001b[0;31mAttributeError\u001b[0m                            Traceback (most recent call last)",
      "\u001b[0;32m<ipython-input-47-51016381bdf3>\u001b[0m in \u001b[0;36m<module>\u001b[0;34m\u001b[0m\n\u001b[0;32m----> 1\u001b[0;31m \u001b[0mtup\u001b[0m\u001b[0;34m.\u001b[0m\u001b[0mappend\u001b[0m\u001b[0;34m(\u001b[0m\u001b[0;36m8\u001b[0m\u001b[0;34m)\u001b[0m\u001b[0;34m\u001b[0m\u001b[0;34m\u001b[0m\u001b[0m\n\u001b[0m",
      "\u001b[0;31mAttributeError\u001b[0m: 'tuple' object has no attribute 'append'"
     ]
    }
   ],
   "source": [
    "tup.append(8)"
   ]
  },
  {
   "cell_type": "code",
   "execution_count": null,
   "id": "ab1c67c9",
   "metadata": {},
   "outputs": [],
   "source": []
  },
  {
   "cell_type": "code",
   "execution_count": 23,
   "id": "8625646f",
   "metadata": {},
   "outputs": [
    {
     "name": "stdout",
     "output_type": "stream",
     "text": [
      "<class 'tuple'> (1, 2, 3, 40, 90, 'Daria', True)\n",
      "7 (1, 2, 3, 40, 90, 'Daria', True)\n",
      "1\n",
      "3\n",
      "Daria\n"
     ]
    }
   ],
   "source": [
    "tupp= (1,2,3,40,90,\"Daria\", True)\n",
    "print(type(tupp), tupp)\n",
    "print(len(tupp), tupp)\n",
    "print(tupp[0])\n",
    "print(tupp[2])\n",
    "print(tupp[-2])\n",
    "\n",
    "\n",
    "\n"
   ]
  },
  {
   "cell_type": "code",
   "execution_count": 40,
   "id": "c458f6f5",
   "metadata": {},
   "outputs": [
    {
     "name": "stdout",
     "output_type": "stream",
     "text": [
      "no\n"
     ]
    }
   ],
   "source": [
    "if 900 in tupp:\n",
    "    print(\"yes, 90 is present in tupp\")\n",
    "else:\n",
    "    print(\"no\")"
   ]
  },
  {
   "cell_type": "code",
   "execution_count": 29,
   "id": "4ee7dab0",
   "metadata": {},
   "outputs": [
    {
     "name": "stdout",
     "output_type": "stream",
     "text": [
      "30\n"
     ]
    }
   ],
   "source": [
    "#Creating a tuple\n",
    "point = (10, 20,30,40)\n",
    "#Accessing elements\n",
    "print(point[2])     # Output: 10\n",
    "\n",
    "#Tuples are immutable, so the following line will raise an error:\n",
    "#point[0] = 5\n"
   ]
  },
  {
   "cell_type": "code",
   "execution_count": 25,
   "id": "84b2b87e",
   "metadata": {},
   "outputs": [
    {
     "data": {
      "text/plain": [
       "(10, 20, 30, 40, 10, 20, 30, 40)"
      ]
     },
     "execution_count": 25,
     "metadata": {},
     "output_type": "execute_result"
    }
   ],
   "source": [
    "point*2   # append 2 times"
   ]
  },
  {
   "cell_type": "code",
   "execution_count": 55,
   "id": "ce99c2a6",
   "metadata": {},
   "outputs": [
    {
     "name": "stdout",
     "output_type": "stream",
     "text": [
      "(2, 3)\n"
     ]
    }
   ],
   "source": [
    "tup2 = tupp[1:3]\n",
    "print(tup2)"
   ]
  },
  {
   "cell_type": "code",
   "execution_count": 51,
   "id": "400e37a6",
   "metadata": {},
   "outputs": [
    {
     "name": "stdout",
     "output_type": "stream",
     "text": [
      "('India', 'Aus', 'England', 'SA', 'USA', 'UK')\n"
     ]
    }
   ],
   "source": [
    "countries= (\"India\", \"Aus\", \"England\")\n",
    "countries2= (\"SA\", \"USA\", \"UK\")\n",
    "new= countries+ countries2  # merge both the tuples\n",
    "print (new)"
   ]
  },
  {
   "cell_type": "code",
   "execution_count": 59,
   "id": "1cb50d18",
   "metadata": {},
   "outputs": [
    {
     "name": "stdout",
     "output_type": "stream",
     "text": [
      "1\n",
      "0\n"
     ]
    }
   ],
   "source": [
    "print(tup2.count(2))  # gives occurances of the 2 element in th tup2\n",
    "print(tup2.index(2))  # gives indexing of the 2 element in th tup2"
   ]
  },
  {
   "cell_type": "code",
   "execution_count": 61,
   "id": "6f3a93b7",
   "metadata": {},
   "outputs": [
    {
     "name": "stdout",
     "output_type": "stream",
     "text": [
      "count of 3 in tuple3 bw index 2 and 9:  2\n"
     ]
    }
   ],
   "source": [
    "tuple3 = (1,2,3,4,4,4,5,7,9,1,3,5,6,2)\n",
    "res = tuple3.index(3,2,9)\n",
    "print(\"count of 3 in tuple3 bw index 2 and 9: \", res)"
   ]
  },
  {
   "cell_type": "code",
   "execution_count": 92,
   "id": "1c4972f3",
   "metadata": {},
   "outputs": [
    {
     "name": "stdout",
     "output_type": "stream",
     "text": [
      "['India', 'Aus', 'England', 'Turkey', 'Russia']\n"
     ]
    }
   ],
   "source": [
    "country= (\"India\", \"Aus\", \"England\", \"Italy\", \"Turkey\")\n",
    "temp = list(country)\n",
    "temp.append(\"Russia\")\n",
    "temp.pop(3)\n",
    "print(temp)"
   ]
  },
  {
   "cell_type": "markdown",
   "id": "7cea194a",
   "metadata": {},
   "source": [
    "# 3.Dictionaries:\n",
    "#### Dictionaries are unordered, mutable, and store data in key-value pairs. They use curly braces { } to define elements, with each key-value pair separated by a colon (:)."
   ]
  },
  {
   "cell_type": "code",
   "execution_count": 26,
   "id": "50d2d78c",
   "metadata": {},
   "outputs": [
    {
     "name": "stdout",
     "output_type": "stream",
     "text": [
      "John\n",
      "{'emp': 'Jitu', 'age': 26, 'grade': 'A', 'name': 'John'}\n",
      "{'emp': 'Jitu', 'age': 26, 'grade': 'A', 'name': 'John', 'school': 'ABC High School'}\n",
      "{'emp': 'Jitu', 'age': 26, 'name': 'John', 'school': 'ABC High School'}\n"
     ]
    }
   ],
   "source": [
    "# Creating a dictionary\n",
    "student = {'emp': 'Jitu', 'age': 25, 'grade': 'A','name': 'John' }\n",
    "\n",
    "\n",
    "# Accessing elements\n",
    "print(student['name'])   # Output: 'John'\n",
    "\n",
    "# Modifying elements\n",
    "student['age'] = 26\n",
    "print(student)           # Output: {'name': 'John', 'age': 26, 'grade': 'A'}\n",
    "\n",
    "# Adding elements\n",
    "student['school'] = 'ABC High School'\n",
    "print(student)           # Output: {'name': 'John', 'age': 26, 'grade': 'A', 'school': 'ABC High School'}\n",
    "\n",
    "# Removing elements\n",
    "del student['grade']\n",
    "print(student)           # Output: {'name': 'John', 'age': 26, 'school': 'ABC High School'}\n"
   ]
  },
  {
   "cell_type": "code",
   "execution_count": 27,
   "id": "1d040529",
   "metadata": {},
   "outputs": [
    {
     "name": "stdout",
     "output_type": "stream",
     "text": [
      "Analyst\n",
      "25\n",
      "90000\n",
      "{'age': 35, 'position': 'HR', 'salary': 42000}\n",
      "{'age': 25, 'salary': 40000}\n",
      "35\n"
     ]
    }
   ],
   "source": [
    "# Example of a nested dictionary\n",
    "employee_data = {\n",
    "    'John': {\n",
    "        'age': 30,\n",
    "        'position': 'Manager',\n",
    "        'salary': 50000  },\n",
    "    'Alice': {\n",
    "        'age': 25,\n",
    "        'position': 'Developer',\n",
    "        'salary': 40000 },\n",
    "    'Bob': {\n",
    "        'age': 28,\n",
    "        'position': 'Designer',\n",
    "        'salary': 45000},\n",
    "    'Jitu': {\n",
    "        'age': 25,\n",
    "        'position': 'Analyst',\n",
    "        'salary': 60000}   }\n",
    "\n",
    "# Accessing elements in the nested dictionary\n",
    "print(employee_data['Jitu']['position'])   \n",
    "print(employee_data['Alice']['age'])      \n",
    "\n",
    "# Modifying elements in the nested dictionary\n",
    "employee_data['Jitu']['salary'] = 90000\n",
    "print(employee_data['Jitu']['salary'])    \n",
    "\n",
    "# Adding new employee to the nested dictionary\n",
    "employee_data['Eva'] = {\n",
    "    'age': 35,\n",
    "    'position': 'HR',\n",
    "    'salary': 42000\n",
    "}\n",
    "print(employee_data['Eva'])              \n",
    "\n",
    "# Deleting elements in the nested dictionary\n",
    "del employee_data['Alice']['position']\n",
    "print(employee_data['Alice'])       \n",
    "\n",
    "\n",
    "# modifications\n",
    "employee_data['age'] = 50\n",
    "print(employee_data['Eva']['age'])\n"
   ]
  },
  {
   "cell_type": "markdown",
   "id": "722b6a78",
   "metadata": {},
   "source": [
    "# 4.Sets:\n",
    "#### Sets are unordered and mutable collections of unique elements. They use curly braces { } or the set() function to define elements. Sets are useful for removing duplicates and performing set operations like union, intersection, etc."
   ]
  },
  {
   "cell_type": "code",
   "execution_count": 28,
   "id": "b6faae3c",
   "metadata": {},
   "outputs": [
    {
     "name": "stdout",
     "output_type": "stream",
     "text": [
      "{'banana', 'apple', 'orange'}\n",
      "{1, 2, 3, 4, 5}\n",
      "{3}\n"
     ]
    }
   ],
   "source": [
    "# Creating a set\n",
    "fruits_set = {'apple', 'banana', 'orange', 'apple'}\n",
    "\n",
    "# Duplicates are automatically removed\n",
    "print(fruits_set)        # Output: {'apple', 'banana', 'orange'}\n",
    "\n",
    "# Set operations\n",
    "set1 = {1, 2, 3}\n",
    "set2 = {3, 4, 5}\n",
    "\n",
    "print(set1 .union(set2))       # Output: {1, 2, 3, 4, 5}\n",
    "print(set1.intersection(set2))  # Output: {3}\n"
   ]
  },
  {
   "cell_type": "code",
   "execution_count": 29,
   "id": "2115feb3",
   "metadata": {},
   "outputs": [],
   "source": [
    "# fruits_set[2]   set doesnot support indexing\n"
   ]
  },
  {
   "cell_type": "code",
   "execution_count": 30,
   "id": "63317995",
   "metadata": {},
   "outputs": [],
   "source": [
    "set1.add(10)"
   ]
  },
  {
   "cell_type": "code",
   "execution_count": 31,
   "id": "733da002",
   "metadata": {},
   "outputs": [
    {
     "data": {
      "text/plain": [
       "{1, 2, 3, 10}"
      ]
     },
     "execution_count": 31,
     "metadata": {},
     "output_type": "execute_result"
    }
   ],
   "source": [
    "set1"
   ]
  },
  {
   "cell_type": "code",
   "execution_count": 32,
   "id": "2d3cf478",
   "metadata": {},
   "outputs": [],
   "source": [
    "set1.add('jitu')"
   ]
  },
  {
   "cell_type": "code",
   "execution_count": 33,
   "id": "07ee75de",
   "metadata": {},
   "outputs": [
    {
     "data": {
      "text/plain": [
       "{1, 10, 2, 3, 'jitu'}"
      ]
     },
     "execution_count": 33,
     "metadata": {},
     "output_type": "execute_result"
    }
   ],
   "source": [
    "set1"
   ]
  },
  {
   "cell_type": "code",
   "execution_count": 34,
   "id": "296d904d",
   "metadata": {},
   "outputs": [
    {
     "name": "stdout",
     "output_type": "stream",
     "text": [
      "{1, 2, 3, 4, 5, 'jitu', 10}\n"
     ]
    }
   ],
   "source": [
    "print(set1.union(set2))"
   ]
  },
  {
   "cell_type": "code",
   "execution_count": null,
   "id": "6fa59078",
   "metadata": {},
   "outputs": [],
   "source": []
  },
  {
   "cell_type": "code",
   "execution_count": null,
   "id": "9696815d",
   "metadata": {},
   "outputs": [],
   "source": []
  },
  {
   "cell_type": "code",
   "execution_count": 45,
   "id": "3ea592c0",
   "metadata": {},
   "outputs": [
    {
     "data": {
      "text/plain": [
       "(5, 2)"
      ]
     },
     "execution_count": 45,
     "metadata": {},
     "output_type": "execute_result"
    }
   ],
   "source": [
    "df.shape                                           "
   ]
  },
  {
   "cell_type": "code",
   "execution_count": 46,
   "id": "630167f7",
   "metadata": {},
   "outputs": [
    {
     "data": {
      "text/plain": [
       "Index(['A', 'B'], dtype='object')"
      ]
     },
     "execution_count": 46,
     "metadata": {},
     "output_type": "execute_result"
    }
   ],
   "source": [
    "df.columns      "
   ]
  },
  {
   "cell_type": "code",
   "execution_count": null,
   "id": "4ecfaae6",
   "metadata": {},
   "outputs": [],
   "source": [
    "df.to_csv('loanbills.csv')                         "
   ]
  },
  {
   "cell_type": "code",
   "execution_count": 40,
   "id": "fe600f0e",
   "metadata": {},
   "outputs": [
    {
     "name": "stdout",
     "output_type": "stream",
     "text": [
      "1\n",
      "3\n",
      "[3 4 5 6 7]\n",
      "[1 2 3 4 5 2]\n",
      "3.0\n"
     ]
    }
   ],
   "source": [
    " import numpy as np\n",
    "\n",
    "# Creating a 1-D array\n",
    "one_dimensional_array = np.array([1, 2, 3, 4, 5])\n",
    "\n",
    "# Accessing elements of a 1-D array\n",
    "print(one_dimensional_array[0])  # Access the first element\n",
    "print(one_dimensional_array[2])  # Access the third element\n",
    "\n",
    "# Perform operations on 1-D array\n",
    "result = one_dimensional_array + 2\n",
    "print(result)  # Adds 2 to each element\n",
    "\n",
    "# Perform operations on 1-D array\n",
    "result2 = np.append(one_dimensional_array, 2)\n",
    "print(result2)\n",
    "\n",
    "# Calculate the mean of the elements\n",
    "mean = np.mean(one_dimensional_array)\n",
    "print(mean)"
   ]
  },
  {
   "cell_type": "code",
   "execution_count": 38,
   "id": "2a8d9235",
   "metadata": {},
   "outputs": [
    {
     "name": "stdout",
     "output_type": "stream",
     "text": [
      "1\n",
      "6\n",
      "[[ 2  4  6]\n",
      " [ 8 10 12]\n",
      " [14 16 18]]\n",
      "45\n",
      "5.0\n"
     ]
    }
   ],
   "source": [
    "\n",
    "# Creating a 2-D array (matrix)\n",
    "two_dimensional_array = np.array([[1, 2, 3], [4, 5, 6], [7, 8, 9]])\n",
    "\n",
    "# Accessing elements of a 2-D array\n",
    "print(two_dimensional_array[0, 0])  # Access the element in the first row and first column\n",
    "print(two_dimensional_array[1, 2])  # Access the element in the second row and third column\n",
    "\n",
    "# Perform operations on 2-D array\n",
    "result = two_dimensional_array * 2  # Multiply each element by 2\n",
    "print(result)\n",
    "\n",
    "# Calculate the sum of all elements\n",
    "sum_all = np.sum(two_dimensional_array)\n",
    "print(sum_all)\n",
    "\n",
    "\n",
    "# Calculate the mean of the elements\n",
    "mean = np.mean(two_dimensional_array)\n",
    "print(mean)"
   ]
  },
  {
   "cell_type": "code",
   "execution_count": 63,
   "id": "4ca5bb80",
   "metadata": {},
   "outputs": [
    {
     "name": "stdout",
     "output_type": "stream",
     "text": [
      "Inner Join:\n",
      "   A  B  C\n",
      "0  3  c  x\n",
      "1  4  d  y\n",
      "\n",
      "Left Join:\n",
      "   A  B    C\n",
      "0  1  a  NaN\n",
      "1  2  b  NaN\n",
      "2  3  c    x\n",
      "3  4  d    y\n",
      "\n",
      "Right Join:\n",
      "   A    B  C\n",
      "0  3    c  x\n",
      "1  4    d  y\n",
      "2  5  NaN  z\n",
      "3  6  NaN  w\n",
      "\n",
      "Outer Join:\n",
      "   A    B    C\n",
      "0  1    a  NaN\n",
      "1  2    b  NaN\n",
      "2  3    c    x\n",
      "3  4    d    y\n",
      "4  5  NaN    z\n",
      "5  6  NaN    w\n"
     ]
    }
   ],
   "source": [
    "import pandas as pd\n",
    "\n",
    "# Creating two sample DataFrames\n",
    "df1 = pd.DataFrame({'A': [1, 2, 3, 4],\n",
    "                    'B': ['a', 'b', 'c', 'd']})\n",
    "\n",
    "df2 = pd.DataFrame({'A': [3, 4, 5, 6],\n",
    "                    'C': ['x', 'y', 'z', 'w']})\n",
    "\n",
    "# Performing different types of joins\n",
    "# Inner Join\n",
    "inner_join = pd.merge(df1, df2, on='A', how='inner')\n",
    "\n",
    "# Left Join\n",
    "left_join = pd.merge(df1, df2, on='A', how='left')\n",
    "\n",
    "# Right Join\n",
    "right_join = pd.merge(df1, df2, on='A', how='right')\n",
    "\n",
    "# Outer Join\n",
    "outer_join = pd.merge(df1, df2, on='A', how='outer')\n",
    "\n",
    "# Displaying the results\n",
    "print(\"Inner Join:\")\n",
    "print(inner_join)\n",
    "\n",
    "print(\"\\nLeft Join:\")\n",
    "print(left_join)\n",
    "\n",
    "print(\"\\nRight Join:\")\n",
    "print(right_join)\n",
    "\n",
    "print(\"\\nOuter Join:\")\n",
    "print(outer_join)\n"
   ]
  },
  {
   "cell_type": "code",
   "execution_count": 1,
   "id": "006bcd4b",
   "metadata": {},
   "outputs": [
    {
     "name": "stdout",
     "output_type": "stream",
     "text": [
      "Using loc:\n",
      "1\n",
      "\n",
      "Using iloc:\n",
      "1\n"
     ]
    }
   ],
   "source": [
    "import pandas as pd\n",
    "\n",
    "# Creating a sample DataFrame\n",
    "data = {'A': [1, 2, 3, 4, 5],\n",
    "        'B': [6, 7, 8, 9, 10]}\n",
    "\n",
    "df = pd.DataFrame(data, index=['a', 'b', 'c', 'd', 'e'])\n",
    "\n",
    "# Using loc to access data by label\n",
    "print(\"Using loc:\")\n",
    "print(df.loc['a', 'A'])  # Accessing a single element\n",
    "\n",
    "# Using iloc to access data by integer index\n",
    "print(\"\\nUsing iloc:\")\n",
    "print(df.iloc[0, 0])  # Accessing a single element\n"
   ]
  },
  {
   "cell_type": "markdown",
   "id": "147c5716",
   "metadata": {},
   "source": [
    "## STRING DATA TYPE"
   ]
  },
  {
   "cell_type": "code",
   "execution_count": 3,
   "id": "a3ba0fbb",
   "metadata": {},
   "outputs": [
    {
     "name": "stdout",
     "output_type": "stream",
     "text": [
      "hello, jiten\n"
     ]
    }
   ],
   "source": [
    "name = \"jiten\"\n",
    "friend = \"shivani\"\n",
    "anotherfriend= \"rani\"\n",
    "print(\"hello,\",name)"
   ]
  },
  {
   "cell_type": "code",
   "execution_count": 6,
   "id": "fa065af7",
   "metadata": {},
   "outputs": [
    {
     "name": "stdout",
     "output_type": "stream",
     "text": [
      "Helllo,    He said,\n",
      "\n",
      "Hi Daria\n",
      "I am good \n",
      "\"I want to eat an apple\"\n",
      "\n",
      "\n"
     ]
    }
   ],
   "source": [
    "apple = '''   He said,\n",
    "\n",
    "Hi Daria\n",
    "I am good \n",
    "\"I want to eat an apple\"\n",
    "\n",
    "'''\n",
    "\n",
    "print(\"Helllo, \" +apple)"
   ]
  },
  {
   "cell_type": "code",
   "execution_count": 7,
   "id": "39f01afe",
   "metadata": {},
   "outputs": [
    {
     "name": "stdout",
     "output_type": "stream",
     "text": [
      "   He said,\n",
      "\n",
      "Hi Daria\n",
      "I am good \n",
      "\"I want to eat an apple\"\n",
      "\n",
      "\n"
     ]
    }
   ],
   "source": [
    "print(apple)"
   ]
  },
  {
   "cell_type": "code",
   "execution_count": 8,
   "id": "d221c7cb",
   "metadata": {},
   "outputs": [
    {
     "name": "stdout",
     "output_type": "stream",
     "text": [
      "name = \"jiten\"\n",
      "friend = \"shivani\"\n",
      "anotherfriend= \"rani\"\n",
      "print(\"hello,\",name)\n",
      "\n",
      "apple = '''   He said,\n",
      "\n",
      "Hi Daria\n",
      "I am good \n",
      "\"I want to eat an apple\"\n",
      "\n",
      "'''\n",
      "\n",
      "print(\"Helllo, \" +apple)\n"
     ]
    }
   ],
   "source": [
    "str = \"\"\"name = \"jiten\"\n",
    "friend = \"shivani\"\n",
    "anotherfriend= \"rani\"\n",
    "print(\"hello,\",name)\n",
    "\n",
    "apple = '''   He said,\n",
    "\n",
    "Hi Daria\n",
    "I am good \n",
    "\"I want to eat an apple\"\n",
    "\n",
    "'''\n",
    "\n",
    "print(\"Helllo, \" +apple)\"\"\"\n",
    "\n",
    "print(str)\n"
   ]
  },
  {
   "cell_type": "code",
   "execution_count": 11,
   "id": "6f068357",
   "metadata": {},
   "outputs": [
    {
     "name": "stdout",
     "output_type": "stream",
     "text": [
      "j\n",
      "i\n",
      "e\n",
      "n\n"
     ]
    }
   ],
   "source": [
    "print(name[0])\n",
    "print(name[1])\n",
    "print(name[3])\n",
    "print(name[4])"
   ]
  },
  {
   "cell_type": "code",
   "execution_count": 12,
   "id": "df58cacc",
   "metadata": {},
   "outputs": [
    {
     "name": "stdout",
     "output_type": "stream",
     "text": [
      "j\n",
      "i\n",
      "t\n",
      "e\n",
      "n\n"
     ]
    }
   ],
   "source": [
    "for character in name:\n",
    "    print(character)"
   ]
  },
  {
   "cell_type": "code",
   "execution_count": 15,
   "id": "fa3389fa",
   "metadata": {},
   "outputs": [
    {
     "name": "stdout",
     "output_type": "stream",
     "text": [
      "59\n"
     ]
    }
   ],
   "source": [
    "print(len(apple))"
   ]
  },
  {
   "cell_type": "code",
   "execution_count": null,
   "id": "ca13fcd7",
   "metadata": {},
   "outputs": [],
   "source": []
  }
 ],
 "metadata": {
  "kernelspec": {
   "display_name": "conda_python3",
   "language": "python",
   "name": "conda_python3"
  },
  "language_info": {
   "codemirror_mode": {
    "name": "ipython",
    "version": 3
   },
   "file_extension": ".py",
   "mimetype": "text/x-python",
   "name": "python",
   "nbconvert_exporter": "python",
   "pygments_lexer": "ipython3",
   "version": "3.6.13"
  }
 },
 "nbformat": 4,
 "nbformat_minor": 5
}
