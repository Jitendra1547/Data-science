{
 "cells": [
  {
   "cell_type": "code",
   "execution_count": 1,
   "id": "8f3be8e2",
   "metadata": {},
   "outputs": [
    {
     "name": "stderr",
     "output_type": "stream",
     "text": [
      "/home/ec2-user/anaconda3/envs/python3/lib/python3.6/site-packages/psycopg2/__init__.py:144: UserWarning: The psycopg2 wheel package will be renamed from release 2.8; in order to keep installing from binary please use \"pip install psycopg2-binary\" instead. For details see: <http://initd.org/psycopg/docs/install.html#binary-install-from-pypi>.\n",
      "  \"\"\")\n"
     ]
    }
   ],
   "source": [
    "import pandas as pd\n",
    "import numpy as np\n",
    "import matplotlib.pyplot as plt\n",
    "import seaborn as sns\n",
    "\n",
    "\n",
    "import aws_connection\n",
    "sw = aws_connection.get_connection()"
   ]
  },
  {
   "cell_type": "code",
   "execution_count": 81,
   "id": "a9de4b44",
   "metadata": {},
   "outputs": [],
   "source": [
    "#df = pd.read_sql(f'''  select * from  loan_application limit 90''', sw)"
   ]
  },
  {
   "cell_type": "code",
   "execution_count": 82,
   "id": "05585723",
   "metadata": {},
   "outputs": [
    {
     "data": {
      "text/html": [
       "<div>\n",
       "<style scoped>\n",
       "    .dataframe tbody tr th:only-of-type {\n",
       "        vertical-align: middle;\n",
       "    }\n",
       "\n",
       "    .dataframe tbody tr th {\n",
       "        vertical-align: top;\n",
       "    }\n",
       "\n",
       "    .dataframe thead th {\n",
       "        text-align: right;\n",
       "    }\n",
       "</style>\n",
       "<table border=\"1\" class=\"dataframe\">\n",
       "  <thead>\n",
       "    <tr style=\"text-align: right;\">\n",
       "      <th></th>\n",
       "      <th>John</th>\n",
       "      <th>Alice</th>\n",
       "      <th>Bob</th>\n",
       "      <th>Jitu</th>\n",
       "      <th>Eva</th>\n",
       "    </tr>\n",
       "  </thead>\n",
       "  <tbody>\n",
       "    <tr>\n",
       "      <th>age</th>\n",
       "      <td>30</td>\n",
       "      <td>25.0</td>\n",
       "      <td>28</td>\n",
       "      <td>25</td>\n",
       "      <td>35</td>\n",
       "    </tr>\n",
       "    <tr>\n",
       "      <th>position</th>\n",
       "      <td>Manager</td>\n",
       "      <td>NaN</td>\n",
       "      <td>Designer</td>\n",
       "      <td>Analyst</td>\n",
       "      <td>HR</td>\n",
       "    </tr>\n",
       "    <tr>\n",
       "      <th>salary</th>\n",
       "      <td>50000</td>\n",
       "      <td>40000.0</td>\n",
       "      <td>45000</td>\n",
       "      <td>48000</td>\n",
       "      <td>42000</td>\n",
       "    </tr>\n",
       "  </tbody>\n",
       "</table>\n",
       "</div>"
      ],
      "text/plain": [
       "             John    Alice       Bob     Jitu    Eva\n",
       "age            30     25.0        28       25     35\n",
       "position  Manager      NaN  Designer  Analyst     HR\n",
       "salary      50000  40000.0     45000    48000  42000"
      ]
     },
     "execution_count": 82,
     "metadata": {},
     "output_type": "execute_result"
    }
   ],
   "source": [
    "df"
   ]
  },
  {
   "cell_type": "code",
   "execution_count": 10,
   "id": "59116475",
   "metadata": {},
   "outputs": [
    {
     "data": {
      "text/plain": [
       "pandas.core.frame.DataFrame"
      ]
     },
     "execution_count": 10,
     "metadata": {},
     "output_type": "execute_result"
    }
   ],
   "source": [
    "type(df)"
   ]
  },
  {
   "cell_type": "markdown",
   "id": "971e9645",
   "metadata": {},
   "source": [
    "# Data Structure"
   ]
  },
  {
   "cell_type": "markdown",
   "id": "c7dce0c8",
   "metadata": {},
   "source": [
    "# 1. Lists:\n",
    "####  Lists are ordered, mutable (modifiable), and can store elements of different data types. They are enclosed in square brackets [ ] and support indexing and slicing to access elements."
   ]
  },
  {
   "cell_type": "code",
   "execution_count": 19,
   "id": "031b48ca",
   "metadata": {},
   "outputs": [
    {
     "name": "stdout",
     "output_type": "stream",
     "text": [
      "['Jitu', 'Shivani', 'Rani', 'Sambit']\n",
      "Jitu\n",
      "['Shivani', 'Rani', 'Sambit']\n",
      "['Jitu', 'Shivani', 'kiwi', 'Sambit']\n",
      "['Jitu', 'Shivani', 'kiwi', 'Sambit', 'mango']\n",
      "['Jitu', 'Shivani', 'kiwi', 'mango']\n"
     ]
    }
   ],
   "source": [
    "# Creating a list\n",
    "Emp = ['Jitu', 'Shivani', 'Rani', 'Sambit']\n",
    "print(Emp)\n",
    "# Accessing elements\n",
    "print(Emp[0])    # Output: 'apple'\n",
    "print(Emp[1:])   # Output: ['banana', 'orange', 'grape']\n",
    "\n",
    "# Modifying elements\n",
    "Emp[2] = 'kiwi'\n",
    "print(Emp)       # Output: ['apple', 'banana', 'kiwi', 'grape']\n",
    "\n",
    "# Adding elements\n",
    "Emp.append('mango')\n",
    "print(Emp)       # Output: ['apple', 'banana', 'kiwi', 'grape', 'mango']\n",
    "\n",
    "# Removing elements\n",
    "Emp.remove('Sambit')\n",
    "print(Emp)       # Output: ['apple', 'kiwi', 'grape', 'mango']\n"
   ]
  },
  {
   "cell_type": "code",
   "execution_count": 21,
   "id": "2233656a",
   "metadata": {},
   "outputs": [],
   "source": [
    "Table1 = [1,2,3,4,5,6]\n",
    "Table2 = [7,8,9,10]"
   ]
  },
  {
   "cell_type": "code",
   "execution_count": 23,
   "id": "ea468b27",
   "metadata": {},
   "outputs": [
    {
     "data": {
      "text/plain": [
       "[1, 2, 3, 4, 5, 6, 7, 8, 9, 10]"
      ]
     },
     "execution_count": 23,
     "metadata": {},
     "output_type": "execute_result"
    }
   ],
   "source": [
    "Table1 + Table2"
   ]
  },
  {
   "cell_type": "code",
   "execution_count": 24,
   "id": "9a33bfbd",
   "metadata": {},
   "outputs": [
    {
     "data": {
      "text/plain": [
       "[1, 2, 3, 4, 5, 6, 1, 2, 3, 4, 5, 6]"
      ]
     },
     "execution_count": 24,
     "metadata": {},
     "output_type": "execute_result"
    }
   ],
   "source": [
    "Table1*2"
   ]
  },
  {
   "cell_type": "code",
   "execution_count": null,
   "id": "bfe4a8e0",
   "metadata": {},
   "outputs": [],
   "source": []
  },
  {
   "cell_type": "markdown",
   "id": "c2c3710c",
   "metadata": {},
   "source": [
    "# 2.Tuples:\n",
    "#### Tuples are ordered, immutable (cannot be changed after creation), and use parentheses ( ) to define elements. They are useful for representing fixed collections of items."
   ]
  },
  {
   "cell_type": "code",
   "execution_count": 28,
   "id": "44a1c942",
   "metadata": {},
   "outputs": [
    {
     "name": "stdout",
     "output_type": "stream",
     "text": [
      "10\n"
     ]
    }
   ],
   "source": [
    "# Creating a tuple\n",
    "point = (10, 20)\n",
    "\n",
    "# Accessing elements\n",
    "print(point[0])     # Output: 10\n",
    "\n",
    "# Tuples are immutable, so the following line will raise an error:\n",
    " #point[0] = 5\n"
   ]
  },
  {
   "cell_type": "code",
   "execution_count": 30,
   "id": "114e15ae",
   "metadata": {},
   "outputs": [
    {
     "data": {
      "text/plain": [
       "(10, 20, 10, 20)"
      ]
     },
     "execution_count": 30,
     "metadata": {},
     "output_type": "execute_result"
    }
   ],
   "source": [
    "point*2   # append 2 times"
   ]
  },
  {
   "cell_type": "code",
   "execution_count": null,
   "id": "2a5d52bf",
   "metadata": {},
   "outputs": [],
   "source": []
  },
  {
   "cell_type": "markdown",
   "id": "1da8694a",
   "metadata": {},
   "source": [
    "# 3.Dictionaries:\n",
    "#### Dictionaries are unordered, mutable, and store data in key-value pairs. They use curly braces { } to define elements, with each key-value pair separated by a colon (:)."
   ]
  },
  {
   "cell_type": "code",
   "execution_count": 41,
   "id": "2fc87a4d",
   "metadata": {},
   "outputs": [
    {
     "name": "stdout",
     "output_type": "stream",
     "text": [
      "John\n",
      "{'emp': 'Jitu', 'age': 26, 'grade': 'A', 'name': 'John'}\n",
      "{'emp': 'Jitu', 'age': 26, 'grade': 'A', 'name': 'John', 'school': 'ABC High School'}\n",
      "{'emp': 'Jitu', 'age': 26, 'name': 'John', 'school': 'ABC High School'}\n"
     ]
    }
   ],
   "source": [
    "# Creating a dictionary\n",
    "student = {'emp': 'Jitu', 'age': 25, 'grade': 'A','name': 'John' }\n",
    "\n",
    "\n",
    "# Accessing elements\n",
    "print(student['name'])   # Output: 'John'\n",
    "\n",
    "# Modifying elements\n",
    "student['age'] = 26\n",
    "print(student)           # Output: {'name': 'John', 'age': 26, 'grade': 'A'}\n",
    "\n",
    "# Adding elements\n",
    "student['school'] = 'ABC High School'\n",
    "print(student)           # Output: {'name': 'John', 'age': 26, 'grade': 'A', 'school': 'ABC High School'}\n",
    "\n",
    "# Removing elements\n",
    "del student['grade']\n",
    "print(student)           # Output: {'name': 'John', 'age': 26, 'school': 'ABC High School'}\n"
   ]
  },
  {
   "cell_type": "code",
   "execution_count": 79,
   "id": "66c1ff0a",
   "metadata": {},
   "outputs": [
    {
     "name": "stdout",
     "output_type": "stream",
     "text": [
      "Analyst\n",
      "25\n",
      "90000\n",
      "{'age': 35, 'position': 'HR', 'salary': 42000}\n",
      "{'age': 25, 'salary': 40000}\n",
      "35\n"
     ]
    }
   ],
   "source": [
    "# Example of a nested dictionary\n",
    "employee_data = {\n",
    "    'John': {\n",
    "        'age': 30,\n",
    "        'position': 'Manager',\n",
    "        'salary': 50000  },\n",
    "    'Alice': {\n",
    "        'age': 25,\n",
    "        'position': 'Developer',\n",
    "        'salary': 40000 },\n",
    "    'Bob': {\n",
    "        'age': 28,\n",
    "        'position': 'Designer',\n",
    "        'salary': 45000},\n",
    "    'Jitu': {\n",
    "        'age': 25,\n",
    "        'position': 'Analyst',\n",
    "        'salary': 60000}   }\n",
    "\n",
    "# Accessing elements in the nested dictionary\n",
    "print(employee_data['Jitu']['position'])   \n",
    "print(employee_data['Alice']['age'])      \n",
    "\n",
    "# Modifying elements in the nested dictionary\n",
    "employee_data['Jitu']['salary'] = 90000\n",
    "print(employee_data['Jitu']['salary'])    \n",
    "\n",
    "# Adding new employee to the nested dictionary\n",
    "employee_data['Eva'] = {\n",
    "    'age': 35,\n",
    "    'position': 'HR',\n",
    "    'salary': 42000\n",
    "}\n",
    "print(employee_data['Eva'])              \n",
    "\n",
    "# Deleting elements in the nested dictionary\n",
    "del employee_data['Alice']['position']\n",
    "print(employee_data['Alice'])       \n",
    "\n",
    "\n",
    "# modifications\n",
    "employee_data['age'] = 50\n",
    "print(employee_data['Eva']['age'])\n"
   ]
  },
  {
   "cell_type": "markdown",
   "id": "c81fd1de",
   "metadata": {},
   "source": [
    "# 4.Sets:\n",
    "#### Sets are unordered and mutable collections of unique elements. They use curly braces { } or the set() function to define elements. Sets are useful for removing duplicates and performing set operations like union, intersection, etc."
   ]
  },
  {
   "cell_type": "code",
   "execution_count": 42,
   "id": "31ff0e4a",
   "metadata": {},
   "outputs": [
    {
     "name": "stdout",
     "output_type": "stream",
     "text": [
      "{'apple', 'orange', 'banana'}\n",
      "{1, 2, 3, 4, 5}\n",
      "{3}\n"
     ]
    }
   ],
   "source": [
    "# Creating a set\n",
    "fruits_set = {'apple', 'banana', 'orange', 'apple'}\n",
    "\n",
    "# Duplicates are automatically removed\n",
    "print(fruits_set)        # Output: {'apple', 'banana', 'orange'}\n",
    "\n",
    "# Set operations\n",
    "set1 = {1, 2, 3}\n",
    "set2 = {3, 4, 5}\n",
    "\n",
    "print(set1.union(set2))       # Output: {1, 2, 3, 4, 5}\n",
    "print(set1.intersection(set2))  # Output: {3}\n"
   ]
  },
  {
   "cell_type": "code",
   "execution_count": 80,
   "id": "63ad2743",
   "metadata": {},
   "outputs": [],
   "source": [
    "# fruits_set[2]   set doesnot support indexing\n"
   ]
  },
  {
   "cell_type": "code",
   "execution_count": null,
   "id": "0612e76e",
   "metadata": {},
   "outputs": [],
   "source": []
  }
 ],
 "metadata": {
  "kernelspec": {
   "display_name": "conda_python3",
   "language": "python",
   "name": "conda_python3"
  },
  "language_info": {
   "codemirror_mode": {
    "name": "ipython",
    "version": 3
   },
   "file_extension": ".py",
   "mimetype": "text/x-python",
   "name": "python",
   "nbconvert_exporter": "python",
   "pygments_lexer": "ipython3",
   "version": "3.6.13"
  }
 },
 "nbformat": 4,
 "nbformat_minor": 5
}
