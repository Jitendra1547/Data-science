{
 "cells": [
  {
   "cell_type": "code",
   "execution_count": null,
   "id": "9d15d609",
   "metadata": {},
   "outputs": [],
   "source": [
    "import pandas as pd \n",
    "\n",
    "import numpy as np   "
   ]
  },
  {
   "cell_type": "code",
   "execution_count": 2,
   "id": "d5145f49",
   "metadata": {},
   "outputs": [
    {
     "name": "stdout",
     "output_type": "stream",
     "text": [
      "10\n"
     ]
    }
   ],
   "source": [
    "def double(x):\n",
    "    return x*2\n",
    "print(double(5))\n",
    "\n"
   ]
  },
  {
   "cell_type": "code",
   "execution_count": 4,
   "id": "05c1696e",
   "metadata": {},
   "outputs": [
    {
     "name": "stdout",
     "output_type": "stream",
     "text": [
      "15\n"
     ]
    }
   ],
   "source": [
    "triple = lambda x: x*3\n",
    "print(triple(5))"
   ]
  },
  {
   "cell_type": "code",
   "execution_count": 7,
   "id": "bd753e77",
   "metadata": {},
   "outputs": [
    {
     "name": "stdout",
     "output_type": "stream",
     "text": [
      "15\n",
      "64\n",
      "4.0\n"
     ]
    }
   ],
   "source": [
    "triple = lambda x: x*3\n",
    "cube = lambda x: x*x*x\n",
    "avg = lambda x,y,z: (x+y+z)/3\n",
    "print(triple(5))\n",
    "print(cube(4))\n",
    "print(avg(2,6,4))"
   ]
  },
  {
   "cell_type": "code",
   "execution_count": 11,
   "id": "e007f82a",
   "metadata": {},
   "outputs": [
    {
     "name": "stdout",
     "output_type": "stream",
     "text": [
      "14\n"
     ]
    }
   ],
   "source": [
    "def appl(fx, value):\n",
    "    return 6+fx(value)\n",
    "print(appl(cube, 2))"
   ]
  },
  {
   "cell_type": "code",
   "execution_count": 13,
   "id": "38b5df22",
   "metadata": {},
   "outputs": [
    {
     "name": "stdout",
     "output_type": "stream",
     "text": [
      "14\n"
     ]
    }
   ],
   "source": [
    "print(appl(lambda x: x*x*x,2))"
   ]
  },
  {
   "cell_type": "markdown",
   "id": "5a18dcbe",
   "metadata": {},
   "source": [
    "## Filtering Data:\n",
    "Lambda functions can be used with functions like filter() to filter data based on a specific condition."
   ]
  },
  {
   "cell_type": "code",
   "execution_count": 2,
   "id": "d38b4970",
   "metadata": {},
   "outputs": [
    {
     "name": "stdout",
     "output_type": "stream",
     "text": [
      "[1, 3, 5, 7, 9]\n"
     ]
    }
   ],
   "source": [
    "data = [1, 2, 3, 4, 5, 6, 7, 8, 9, 10]\n",
    "filtered_data = list(filter(lambda x: x % 2 != 0, data))\n",
    "print(filtered_data)                               "
   ]
  },
  {
   "cell_type": "code",
   "execution_count": null,
   "id": "f6592efc",
   "metadata": {},
   "outputs": [],
   "source": []
  },
  {
   "cell_type": "markdown",
   "id": "dcbc513e",
   "metadata": {},
   "source": [
    "## Mapping Data:\n",
    "\n",
    "You can use lambda functions with functions like map() to transform data"
   ]
  },
  {
   "cell_type": "code",
   "execution_count": 3,
   "id": "2263a6f0",
   "metadata": {},
   "outputs": [
    {
     "name": "stdout",
     "output_type": "stream",
     "text": [
      "[1, 4, 9, 16, 25, 36, 49, 64, 81, 100]\n"
     ]
    }
   ],
   "source": [
    "data = [1, 2, 3, 4, 5,6,7,8,9,10]\n",
    "squared_data = list(map(lambda x: x ** 2, data))\n",
    "print(squared_data)                      "
   ]
  },
  {
   "cell_type": "markdown",
   "id": "bb9662be",
   "metadata": {},
   "source": [
    "## Conditional Transformations:\n",
    "You can use lambda functions in combination with if and else to perform conditional transformations."
   ]
  },
  {
   "cell_type": "code",
   "execution_count": 4,
   "id": "d8c28ffc",
   "metadata": {},
   "outputs": [
    {
     "name": "stdout",
     "output_type": "stream",
     "text": [
      "[1, 4, 3, 8, 5, 12, 7, 16, 9, 180]\n"
     ]
    }
   ],
   "source": [
    "data = [1, 2, 3, 4, 5,6,7,8,9,90]\n",
    "transformed_data = list(map(lambda x: x * 2 if x % 2 == 0 else x, data))\n",
    "print(transformed_data)                   "
   ]
  },
  {
   "cell_type": "markdown",
   "id": "1e8273d8",
   "metadata": {},
   "source": [
    "## Calculating Aggregate Values:\n",
    "Lambda functions can be used with functions like reduce() to calculate aggregate values."
   ]
  },
  {
   "cell_type": "code",
   "execution_count": 5,
   "id": "168d6bd4",
   "metadata": {},
   "outputs": [
    {
     "name": "stdout",
     "output_type": "stream",
     "text": [
      "211\n"
     ]
    }
   ],
   "source": [
    "from functools import reduce\n",
    "\n",
    "data = [1, 2, 3, 4, 5,6,90,100]\n",
    "sum_data = reduce(lambda x, z: x+z, data)\n",
    "print(sum_data)  "
   ]
  },
  {
   "cell_type": "code",
   "execution_count": 6,
   "id": "de2c8850",
   "metadata": {},
   "outputs": [
    {
     "name": "stdout",
     "output_type": "stream",
     "text": [
      "211\n"
     ]
    }
   ],
   "source": [
    "from functools import reduce\n",
    "\n",
    "data = [1, 2, 3, 4, 5,6,90,100]\n",
    "sum_data = reduce(lambda x, z: x+z, data)  \n",
    "print(sum_data)  "
   ]
  },
  {
   "cell_type": "markdown",
   "id": "cfd4423e",
   "metadata": {},
   "source": [
    "\n",
    "\n",
    "\n",
    "## Data Analysis with Pandas"
   ]
  },
  {
   "cell_type": "code",
   "execution_count": 7,
   "id": "11f295dd",
   "metadata": {},
   "outputs": [
    {
     "name": "stdout",
     "output_type": "stream",
     "text": [
      "    A  B\n",
      "0  11  5\n",
      "1  12  6\n",
      "2  13  7\n",
      "3  14  8\n"
     ]
    }
   ],
   "source": [
    "import pandas as pd\n",
    "\n",
    "data = pd.DataFrame({'A': [1, 2, 3, 4], 'B': [5, 6, 7, 8]})\n",
    "\n",
    "# Apply a lambda function to multiply column 'A' by 2\n",
    "data['A'] = data['A'].apply(lambda x: x +10)\n",
    "\n",
    "print(data)   "
   ]
  },
  {
   "cell_type": "code",
   "execution_count": 8,
   "id": "43c0e569",
   "metadata": {},
   "outputs": [],
   "source": [
    "# Apply a lambda function to multiply column 'A' by 2\n",
    "data['B'] = data['B'].apply(lambda x: x *10)"
   ]
  },
  {
   "cell_type": "code",
   "execution_count": 9,
   "id": "94de92f6",
   "metadata": {},
   "outputs": [
    {
     "name": "stdout",
     "output_type": "stream",
     "text": [
      "    A   B\n",
      "0  11  50\n",
      "1  12  60\n",
      "2  13  70\n",
      "3  14  80\n"
     ]
    }
   ],
   "source": [
    "print(data)"
   ]
  },
  {
   "cell_type": "code",
   "execution_count": 10,
   "id": "155c9ff4",
   "metadata": {},
   "outputs": [],
   "source": [
    "data['C'] = data['B'].apply(lambda x: x *10) "
   ]
  },
  {
   "cell_type": "code",
   "execution_count": 11,
   "id": "31fe5d4c",
   "metadata": {},
   "outputs": [
    {
     "name": "stdout",
     "output_type": "stream",
     "text": [
      "    A   B    C\n",
      "0  11  50  500\n",
      "1  12  60  600\n",
      "2  13  70  700\n",
      "3  14  80  800\n"
     ]
    }
   ],
   "source": [
    "print(data)"
   ]
  },
  {
   "cell_type": "code",
   "execution_count": 12,
   "id": "4c3a3dcd",
   "metadata": {},
   "outputs": [
    {
     "name": "stdout",
     "output_type": "stream",
     "text": [
      "[1, 3, 5, 7, 9]\n"
     ]
    }
   ],
   "source": [
    "data = [1, 2, 3, 4, 5, 6, 7, 8, 9, 10]\n",
    "filtered_data = list(filter(lambda x: x % 2 != 0, data))\n",
    "print(filtered_data) "
   ]
  },
  {
   "cell_type": "code",
   "execution_count": 13,
   "id": "f8b1ecb4",
   "metadata": {},
   "outputs": [
    {
     "name": "stdout",
     "output_type": "stream",
     "text": [
      "[1, 4, 9, 16, 25, 36, 49, 64, 81, 100]\n"
     ]
    }
   ],
   "source": [
    "\n",
    "data = [1, 2, 3, 4, 5,6,7,8,9,10]\n",
    "squared_data = list(map(lambda x: x ** 2, data))\n",
    "print(squared_data)"
   ]
  },
  {
   "cell_type": "code",
   "execution_count": 14,
   "id": "1232d2dc",
   "metadata": {},
   "outputs": [
    {
     "name": "stdout",
     "output_type": "stream",
     "text": [
      "1\n",
      "2\n",
      "3\n",
      "4\n",
      "5\n",
      "6\n",
      "7\n",
      "8\n",
      "9\n",
      "10\n"
     ]
    }
   ],
   "source": [
    "\n"
   ]
  },
  {
   "cell_type": "code",
   "execution_count": 15,
   "id": "6bc14f9f",
   "metadata": {},
   "outputs": [
    {
     "name": "stdout",
     "output_type": "stream",
     "text": [
      "Sum of values: 210\n"
     ]
    }
   ],
   "source": [
    "data = [10, 20, 30, 40, 50, 50]\n",
    "total = 10\n",
    "\n",
    "for value in data:\n",
    "    total = value+total\n",
    "\n",
    "print(\"Sum of values:\", total)   "
   ]
  },
  {
   "cell_type": "code",
   "execution_count": 16,
   "id": "4ebe26db",
   "metadata": {},
   "outputs": [
    {
     "name": "stdout",
     "output_type": "stream",
     "text": [
      "Sum of values: 210\n"
     ]
    }
   ],
   "source": [
    "data = [10, 20, 30, 40, 50, 50]\n",
    "total = 10\n",
    "\n",
    "for value in data:\n",
    "    total += value\n",
    "\n",
    "print(\"Sum of values:\", total)"
   ]
  },
  {
   "cell_type": "code",
   "execution_count": null,
   "id": "480fe8c6",
   "metadata": {},
   "outputs": [],
   "source": [
    "n = 5\n",
    "factorial = 1\n",
    "\n",
    "while n >0:\n",
    "    factorial = factorial* n\n",
    "    n += 1\n",
    "\n",
    "print(\"Factorial:\", factorial)"
   ]
  },
  {
   "cell_type": "code",
   "execution_count": null,
   "id": "77750b58",
   "metadata": {},
   "outputs": [],
   "source": [
    "n = 5\n",
    "factorial = 1\n",
    "\n",
    "while n >0:\n",
    "    factorial = factorial* n\n",
    "    n += 1\n",
    "\n",
    "print(\"Factorial:\", factorial)\n"
   ]
  },
  {
   "cell_type": "markdown",
   "id": "e620718b",
   "metadata": {},
   "source": [
    "A For loop can iterate over a sequence of iterabale objects in Python.\n",
    "Iterating objects nothing but over objects like strings, list, array, and dictionaries.\n"
   ]
  },
  {
   "cell_type": "code",
   "execution_count": null,
   "id": "71892d3b",
   "metadata": {},
   "outputs": [],
   "source": [
    "name = jitendra \n",
    "for i in name:\n",
    "    print(i)\n",
    "\n",
    "  "
   ]
  },
  {
   "cell_type": "code",
   "execution_count": null,
   "id": "a8c275f2",
   "metadata": {},
   "outputs": [],
   "source": [
    "colors= [\"Red\", \"Blue\", \"Yellow\",\"Green\"]\n",
    "for color in colors:\n",
    "    print(color)"
   ]
  },
  {
   "cell_type": "code",
   "execution_count": null,
   "id": "10f3209c",
   "metadata": {},
   "outputs": [],
   "source": []
  }
 ],
 "metadata": {
  "kernelspec": {
   "display_name": "conda_python3",
   "language": "python",
   "name": "conda_python3"
  },
  "language_info": {
   "codemirror_mode": {
    "name": "ipython",
    "version": 3
   },
   "file_extension": ".py",
   "mimetype": "text/x-python",
   "name": "python",
   "nbconvert_exporter": "python",
   "pygments_lexer": "ipython3",
   "version": "3.6.13"
  }
 },
 "nbformat": 4,
 "nbformat_minor": 5
}
