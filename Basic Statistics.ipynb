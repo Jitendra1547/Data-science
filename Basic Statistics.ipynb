{
 "cells": [
  {
   "cell_type": "code",
   "execution_count": 2,
   "id": "b3db75a2",
   "metadata": {},
   "outputs": [
    {
     "name": "stderr",
     "output_type": "stream",
     "text": [
      "Matplotlib is building the font cache; this may take a moment.\n",
      "/home/ec2-user/anaconda3/envs/python3/lib/python3.6/site-packages/psycopg2/__init__.py:144: UserWarning: The psycopg2 wheel package will be renamed from release 2.8; in order to keep installing from binary please use \"pip install psycopg2-binary\" instead. For details see: <http://initd.org/psycopg/docs/install.html#binary-install-from-pypi>.\n",
      "  \"\"\")\n"
     ]
    }
   ],
   "source": [
    "import pandas as pd\n",
    "import numpy as np\n",
    "import matplotlib.pyplot as plt\n",
    "import seaborn as sns\n",
    "from collections import Counter\n",
    "from scipy.stats import norm\n",
    "import matplotlib.pyplot as plt\n",
    "%matplotlib inline\n",
    "\n",
    "import statistics\n",
    "\n",
    "\n",
    "import aws_connection\n",
    "sw = aws_connection.get_connection()"
   ]
  },
  {
   "cell_type": "markdown",
   "id": "b6912785",
   "metadata": {},
   "source": [
    "### Mean, Mode and Median"
   ]
  },
  {
   "cell_type": "code",
   "execution_count": 2,
   "id": "2f396d41",
   "metadata": {},
   "outputs": [],
   "source": [
    "import statistics\n",
    "\n",
    "data = [23, 45, 67, 89, 23, 80, 67, 23,80,  90, 45, 70, 80, 80,80 ]\n",
    "mean = statistics.mean(data)\n",
    "median = statistics.median(data)\n",
    "mode = statistics.mode(data)"
   ]
  },
  {
   "cell_type": "code",
   "execution_count": 3,
   "id": "a717f4d2",
   "metadata": {},
   "outputs": [
    {
     "data": {
      "text/plain": [
       "(62.8, 70, 80)"
      ]
     },
     "execution_count": 3,
     "metadata": {},
     "output_type": "execute_result"
    }
   ],
   "source": [
    "mean, median, mode"
   ]
  },
  {
   "cell_type": "code",
   "execution_count": 4,
   "id": "f1cefadc",
   "metadata": {},
   "outputs": [],
   "source": [
    "df = pd.DataFrame(data)"
   ]
  },
  {
   "cell_type": "code",
   "execution_count": 5,
   "id": "bc399bfa",
   "metadata": {},
   "outputs": [
    {
     "data": {
      "text/html": [
       "<div>\n",
       "<style scoped>\n",
       "    .dataframe tbody tr th:only-of-type {\n",
       "        vertical-align: middle;\n",
       "    }\n",
       "\n",
       "    .dataframe tbody tr th {\n",
       "        vertical-align: top;\n",
       "    }\n",
       "\n",
       "    .dataframe thead th {\n",
       "        text-align: right;\n",
       "    }\n",
       "</style>\n",
       "<table border=\"1\" class=\"dataframe\">\n",
       "  <thead>\n",
       "    <tr style=\"text-align: right;\">\n",
       "      <th></th>\n",
       "      <th>0</th>\n",
       "    </tr>\n",
       "  </thead>\n",
       "  <tbody>\n",
       "    <tr>\n",
       "      <th>0</th>\n",
       "      <td>23</td>\n",
       "    </tr>\n",
       "    <tr>\n",
       "      <th>1</th>\n",
       "      <td>45</td>\n",
       "    </tr>\n",
       "    <tr>\n",
       "      <th>2</th>\n",
       "      <td>67</td>\n",
       "    </tr>\n",
       "    <tr>\n",
       "      <th>3</th>\n",
       "      <td>89</td>\n",
       "    </tr>\n",
       "    <tr>\n",
       "      <th>4</th>\n",
       "      <td>23</td>\n",
       "    </tr>\n",
       "  </tbody>\n",
       "</table>\n",
       "</div>"
      ],
      "text/plain": [
       "    0\n",
       "0  23\n",
       "1  45\n",
       "2  67\n",
       "3  89\n",
       "4  23"
      ]
     },
     "execution_count": 5,
     "metadata": {},
     "output_type": "execute_result"
    }
   ],
   "source": [
    "df.head()"
   ]
  },
  {
   "cell_type": "code",
   "execution_count": 6,
   "id": "97fc09ee",
   "metadata": {},
   "outputs": [],
   "source": [
    "mode = df.mode()"
   ]
  },
  {
   "cell_type": "code",
   "execution_count": 7,
   "id": "8d5fc930",
   "metadata": {},
   "outputs": [
    {
     "data": {
      "text/html": [
       "<div>\n",
       "<style scoped>\n",
       "    .dataframe tbody tr th:only-of-type {\n",
       "        vertical-align: middle;\n",
       "    }\n",
       "\n",
       "    .dataframe tbody tr th {\n",
       "        vertical-align: top;\n",
       "    }\n",
       "\n",
       "    .dataframe thead th {\n",
       "        text-align: right;\n",
       "    }\n",
       "</style>\n",
       "<table border=\"1\" class=\"dataframe\">\n",
       "  <thead>\n",
       "    <tr style=\"text-align: right;\">\n",
       "      <th></th>\n",
       "      <th>0</th>\n",
       "    </tr>\n",
       "  </thead>\n",
       "  <tbody>\n",
       "    <tr>\n",
       "      <th>0</th>\n",
       "      <td>80</td>\n",
       "    </tr>\n",
       "  </tbody>\n",
       "</table>\n",
       "</div>"
      ],
      "text/plain": [
       "    0\n",
       "0  80"
      ]
     },
     "execution_count": 7,
     "metadata": {},
     "output_type": "execute_result"
    }
   ],
   "source": [
    "mode"
   ]
  },
  {
   "cell_type": "markdown",
   "id": "767ec86b",
   "metadata": {},
   "source": [
    "### Variance and Std Deviation\n",
    "Standard deviation represents the magnitude of how far the data points are from the mean. A low value of standard deviation is an indication of the data being close to the mean, and a high value indicates that the data is spread to extreme ends, far away from the mean.\n"
   ]
  },
  {
   "cell_type": "code",
   "execution_count": 8,
   "id": "9fda71be",
   "metadata": {},
   "outputs": [
    {
     "name": "stdout",
     "output_type": "stream",
     "text": [
      "Variance: 558.56\n",
      "Std Deviation: 23.633873994755916\n"
     ]
    }
   ],
   "source": [
    "variance = np.var(data)\n",
    "std_deviation = np.std(data)\n",
    "\n",
    "print(\"Variance:\", variance)\n",
    "print(\"Std Deviation:\", std_deviation)"
   ]
  },
  {
   "cell_type": "markdown",
   "id": "43bee4fa",
   "metadata": {},
   "source": [
    "### Correlation"
   ]
  },
  {
   "cell_type": "code",
   "execution_count": 9,
   "id": "a44efd46",
   "metadata": {},
   "outputs": [
    {
     "name": "stdout",
     "output_type": "stream",
     "text": [
      "Correlation Coefficient: 1.0\n"
     ]
    }
   ],
   "source": [
    "data1 = [2, 4, 6, 8, 10,12]\n",
    "data2 = [3, 6, 9, 12, 15,18]\n",
    "\n",
    "correlation = np.corrcoef(data1, data2)[0,1]\n",
    "print(\"Correlation Coefficient:\", correlation)"
   ]
  },
  {
   "cell_type": "markdown",
   "id": "ae175843",
   "metadata": {},
   "source": [
    "### Random sample from Normal Distribution"
   ]
  },
  {
   "cell_type": "code",
   "execution_count": 10,
   "id": "91435843",
   "metadata": {},
   "outputs": [
    {
     "name": "stdout",
     "output_type": "stream",
     "text": [
      "Random Sample: [-1.38225073  0.42334279  0.58466087  0.34920665 -1.1533654   0.96469869\n",
      " -0.88527475 -0.07753083  0.26216987 -0.19185937  0.15283385 -0.69922302\n",
      "  1.17503504 -0.51922229  0.22401135  0.63470958  1.85922083 -0.4080271\n",
      "  0.76190498  1.59896992  0.39950494  1.49378999  0.98116942  0.41231563\n",
      "  0.26159635 -0.46439418 -0.26229455  2.14454141  0.1766227  -0.07906101\n",
      "  0.70949017 -0.58079714 -0.65261858  1.17642877 -0.39793768 -0.08276066\n",
      "  2.75582868  0.00370445  1.00715657  0.98823794 -1.02348327  0.41593746\n",
      "  0.54049033  2.23964311 -0.05113734  0.59690316 -0.24531287  0.04995617\n",
      " -0.07576474  1.01508548]\n"
     ]
    }
   ],
   "source": [
    "sample = np.random.normal(0, 1, size=50)\n",
    "print(\"Random Sample:\", sample)"
   ]
  },
  {
   "cell_type": "code",
   "execution_count": 11,
   "id": "0647fd14",
   "metadata": {},
   "outputs": [
    {
     "name": "stdout",
     "output_type": "stream",
     "text": [
      "0.34253703279620323\n"
     ]
    }
   ],
   "source": [
    "print(sample.mean())"
   ]
  },
  {
   "cell_type": "code",
   "execution_count": 12,
   "id": "72de4e07",
   "metadata": {},
   "outputs": [
    {
     "ename": "StatisticsError",
     "evalue": "no unique mode; found 50 equally common values",
     "output_type": "error",
     "traceback": [
      "\u001b[0;31m---------------------------------------------------------------------------\u001b[0m",
      "\u001b[0;31mStatisticsError\u001b[0m                           Traceback (most recent call last)",
      "\u001b[0;32m<ipython-input-12-3376a1fc7e18>\u001b[0m in \u001b[0;36m<module>\u001b[0;34m\u001b[0m\n\u001b[1;32m      1\u001b[0m \u001b[0mmedian\u001b[0m \u001b[0;34m=\u001b[0m \u001b[0mstatistics\u001b[0m\u001b[0;34m.\u001b[0m\u001b[0mmedian\u001b[0m\u001b[0;34m(\u001b[0m\u001b[0msample\u001b[0m\u001b[0;34m)\u001b[0m\u001b[0;34m\u001b[0m\u001b[0;34m\u001b[0m\u001b[0m\n\u001b[0;32m----> 2\u001b[0;31m \u001b[0mmodde\u001b[0m \u001b[0;34m=\u001b[0m \u001b[0mstatistics\u001b[0m\u001b[0;34m.\u001b[0m\u001b[0mmode\u001b[0m\u001b[0;34m(\u001b[0m\u001b[0msample\u001b[0m\u001b[0;34m)\u001b[0m  \u001b[0;31m# could not fins bcz all 50 records are unique\u001b[0m\u001b[0;34m\u001b[0m\u001b[0;34m\u001b[0m\u001b[0m\n\u001b[0m",
      "\u001b[0;32m~/anaconda3/envs/python3/lib/python3.6/statistics.py\u001b[0m in \u001b[0;36mmode\u001b[0;34m(data)\u001b[0m\n\u001b[1;32m    505\u001b[0m     \u001b[0;32melif\u001b[0m \u001b[0mtable\u001b[0m\u001b[0;34m:\u001b[0m\u001b[0;34m\u001b[0m\u001b[0;34m\u001b[0m\u001b[0m\n\u001b[1;32m    506\u001b[0m         raise StatisticsError(\n\u001b[0;32m--> 507\u001b[0;31m                 \u001b[0;34m'no unique mode; found %d equally common values'\u001b[0m \u001b[0;34m%\u001b[0m \u001b[0mlen\u001b[0m\u001b[0;34m(\u001b[0m\u001b[0mtable\u001b[0m\u001b[0;34m)\u001b[0m\u001b[0;34m\u001b[0m\u001b[0;34m\u001b[0m\u001b[0m\n\u001b[0m\u001b[1;32m    508\u001b[0m                 )\n\u001b[1;32m    509\u001b[0m     \u001b[0;32melse\u001b[0m\u001b[0;34m:\u001b[0m\u001b[0;34m\u001b[0m\u001b[0;34m\u001b[0m\u001b[0m\n",
      "\u001b[0;31mStatisticsError\u001b[0m: no unique mode; found 50 equally common values"
     ]
    }
   ],
   "source": [
    "median = statistics.median(sample)\n",
    "modde = statistics.mode(sample)  # could not fins bcz all 50 records are unique"
   ]
  },
  {
   "cell_type": "code",
   "execution_count": 13,
   "id": "e02f9b38",
   "metadata": {},
   "outputs": [
    {
     "data": {
      "text/plain": [
       "0.26188311114430374"
      ]
     },
     "execution_count": 13,
     "metadata": {},
     "output_type": "execute_result"
    }
   ],
   "source": [
    "median"
   ]
  },
  {
   "cell_type": "markdown",
   "id": "d66c4ce1",
   "metadata": {},
   "source": [
    "### Five Number Summary(Box Plot)\n",
    "The five-number summary is a measure of five entities that cover the entire range of data as shown below:\n",
    "\n",
    "Low extreme (Min)\n",
    "\n",
    "First quartile (Q1)\n",
    "\n",
    "Median\n",
    "\n",
    "Upper quartile (Q3)\n",
    "\n",
    "High extreme (Max)"
   ]
  },
  {
   "cell_type": "code",
   "execution_count": 14,
   "id": "b8eea272",
   "metadata": {},
   "outputs": [
    {
     "name": "stdout",
     "output_type": "stream",
     "text": [
      "Minimum: 5\n",
      "Q1: 12.75\n",
      "Median: 18.0\n",
      "Q3: 29.5\n",
      "Maximum: 50\n"
     ]
    }
   ],
   "source": [
    "import numpy as np\n",
    "\n",
    "data = [10, 15, 18, 23, 28, 18, 15, 12, 10, 30, 32, 39, 50, 5]\n",
    "\n",
    "minimum = np.min(data)\n",
    "q1 = np.percentile(data, 25)\n",
    "median = np.median(data)\n",
    "q3 = np.percentile(data, 75)\n",
    "maximum = np.max(data)\n",
    "\n",
    "print(\"Minimum:\", minimum)\n",
    "print(\"Q1:\", q1)  #  25% data points lies below the value or 75 % data points lies above the value\n",
    "print(\"Median:\", median)\n",
    "print(\"Q3:\", q3) #  75% data points lies below the value or 25 % data points lies above the value\n",
    "print(\"Maximum:\", maximum)"
   ]
  },
  {
   "cell_type": "code",
   "execution_count": 15,
   "id": "9bce590a",
   "metadata": {},
   "outputs": [
    {
     "data": {
      "text/plain": [
       "18.0"
      ]
     },
     "execution_count": 15,
     "metadata": {},
     "output_type": "execute_result"
    }
   ],
   "source": [
    "q2 = q1 = np.percentile(data, 50)\n",
    "q2\n"
   ]
  },
  {
   "cell_type": "code",
   "execution_count": 16,
   "id": "d3e3dc00",
   "metadata": {},
   "outputs": [],
   "source": [
    "\n",
    "μ= 160  # mean\n",
    "Z= 1.2 # Z- score\n",
    "σ = 15 #  std deviation\n",
    "\n",
    "X = μ +( Z*σ)\n",
    "\n",
    "\n",
    "\n",
    "#Therefore, X = 160 + (15*1.2) = 173.8 (Approximated to 174)"
   ]
  },
  {
   "cell_type": "code",
   "execution_count": 17,
   "id": "1ba4b5fa",
   "metadata": {},
   "outputs": [
    {
     "data": {
      "text/plain": [
       "178.0"
      ]
     },
     "execution_count": 17,
     "metadata": {},
     "output_type": "execute_result"
    }
   ],
   "source": [
    "X"
   ]
  },
  {
   "cell_type": "markdown",
   "id": "94161df4",
   "metadata": {},
   "source": [
    "## mean , median , mode"
   ]
  },
  {
   "cell_type": "code",
   "execution_count": 44,
   "id": "0cc03e0d",
   "metadata": {},
   "outputs": [
    {
     "name": "stdout",
     "output_type": "stream",
     "text": [
      "Mean: 20.6\n",
      "Median: 20.0\n",
      "Mode: 20\n"
     ]
    }
   ],
   "source": [
    "# Define a list of numbers\n",
    "data = [10, 12, 15, 17, 20, 20, 22, 25, 30, 35]\n",
    "\n",
    "# Calculate the mean\n",
    "mean = sum(data) / len(data)\n",
    "print(\"Mean:\", mean)\n",
    "\n",
    "# Calculate the median\n",
    "sorted_data = sorted(data)\n",
    "n = len(sorted_data)\n",
    "if n % 2 == 0:\n",
    "    median = (sorted_data[n // 2 - 1] + sorted_data[n // 2]) / 2\n",
    "else:\n",
    "    median = sorted_data[n // 2]\n",
    "print(\"Median:\", median)\n",
    "\n",
    "# Calculate the mode\n",
    "c = Counter(data)\n",
    "mode = c.most_common(1)[0][0]\n",
    "print(\"Mode:\", mode)\n"
   ]
  },
  {
   "cell_type": "code",
   "execution_count": 45,
   "id": "1d77f455",
   "metadata": {},
   "outputs": [
    {
     "name": "stdout",
     "output_type": "stream",
     "text": [
      "   value\n",
      "0     10\n",
      "1     12\n",
      "2     15\n",
      "3     17\n",
      "4     20\n",
      "5     20\n",
      "6     22\n",
      "7     25\n",
      "8     30\n",
      "9     35\n"
     ]
    }
   ],
   "source": [
    "\n",
    "# Column names\n",
    "column_names = ['value']\n",
    "\n",
    "# Create DataFrame with column names\n",
    "df = pd.DataFrame(data, columns=column_names)\n",
    "\n",
    "# Display DataFrame\n",
    "print(df)\n",
    "\n",
    "\n",
    "\n"
   ]
  },
  {
   "cell_type": "code",
   "execution_count": 46,
   "id": "39b2d96e",
   "metadata": {},
   "outputs": [
    {
     "data": {
      "text/html": [
       "<div>\n",
       "<style scoped>\n",
       "    .dataframe tbody tr th:only-of-type {\n",
       "        vertical-align: middle;\n",
       "    }\n",
       "\n",
       "    .dataframe tbody tr th {\n",
       "        vertical-align: top;\n",
       "    }\n",
       "\n",
       "    .dataframe thead th {\n",
       "        text-align: right;\n",
       "    }\n",
       "</style>\n",
       "<table border=\"1\" class=\"dataframe\">\n",
       "  <thead>\n",
       "    <tr style=\"text-align: right;\">\n",
       "      <th></th>\n",
       "      <th>value</th>\n",
       "    </tr>\n",
       "  </thead>\n",
       "  <tbody>\n",
       "    <tr>\n",
       "      <th>0</th>\n",
       "      <td>10</td>\n",
       "    </tr>\n",
       "    <tr>\n",
       "      <th>1</th>\n",
       "      <td>12</td>\n",
       "    </tr>\n",
       "    <tr>\n",
       "      <th>2</th>\n",
       "      <td>15</td>\n",
       "    </tr>\n",
       "    <tr>\n",
       "      <th>3</th>\n",
       "      <td>17</td>\n",
       "    </tr>\n",
       "    <tr>\n",
       "      <th>4</th>\n",
       "      <td>20</td>\n",
       "    </tr>\n",
       "  </tbody>\n",
       "</table>\n",
       "</div>"
      ],
      "text/plain": [
       "   value\n",
       "0     10\n",
       "1     12\n",
       "2     15\n",
       "3     17\n",
       "4     20"
      ]
     },
     "execution_count": 46,
     "metadata": {},
     "output_type": "execute_result"
    }
   ],
   "source": [
    "df.head()"
   ]
  },
  {
   "cell_type": "code",
   "execution_count": 47,
   "id": "ff36adfb",
   "metadata": {},
   "outputs": [
    {
     "data": {
      "text/html": [
       "<div>\n",
       "<style scoped>\n",
       "    .dataframe tbody tr th:only-of-type {\n",
       "        vertical-align: middle;\n",
       "    }\n",
       "\n",
       "    .dataframe tbody tr th {\n",
       "        vertical-align: top;\n",
       "    }\n",
       "\n",
       "    .dataframe thead th {\n",
       "        text-align: right;\n",
       "    }\n",
       "</style>\n",
       "<table border=\"1\" class=\"dataframe\">\n",
       "  <thead>\n",
       "    <tr style=\"text-align: right;\">\n",
       "      <th></th>\n",
       "      <th>value</th>\n",
       "    </tr>\n",
       "  </thead>\n",
       "  <tbody>\n",
       "    <tr>\n",
       "      <th>9</th>\n",
       "      <td>35</td>\n",
       "    </tr>\n",
       "  </tbody>\n",
       "</table>\n",
       "</div>"
      ],
      "text/plain": [
       "   value\n",
       "9     35"
      ]
     },
     "execution_count": 47,
     "metadata": {},
     "output_type": "execute_result"
    }
   ],
   "source": [
    "df.query('value>30')"
   ]
  },
  {
   "cell_type": "code",
   "execution_count": 52,
   "id": "8ddc6570",
   "metadata": {},
   "outputs": [
    {
     "data": {
      "text/html": [
       "<div>\n",
       "<style scoped>\n",
       "    .dataframe tbody tr th:only-of-type {\n",
       "        vertical-align: middle;\n",
       "    }\n",
       "\n",
       "    .dataframe tbody tr th {\n",
       "        vertical-align: top;\n",
       "    }\n",
       "\n",
       "    .dataframe thead th {\n",
       "        text-align: right;\n",
       "    }\n",
       "</style>\n",
       "<table border=\"1\" class=\"dataframe\">\n",
       "  <thead>\n",
       "    <tr style=\"text-align: right;\">\n",
       "      <th></th>\n",
       "      <th>value</th>\n",
       "    </tr>\n",
       "  </thead>\n",
       "  <tbody>\n",
       "  </tbody>\n",
       "</table>\n",
       "</div>"
      ],
      "text/plain": [
       "Empty DataFrame\n",
       "Columns: [value]\n",
       "Index: []"
      ]
     },
     "execution_count": 52,
     "metadata": {},
     "output_type": "execute_result"
    }
   ],
   "source": [
    "df.loc[df[\"value\"]>40 ]"
   ]
  },
  {
   "cell_type": "code",
   "execution_count": 4,
   "id": "8204867a",
   "metadata": {},
   "outputs": [],
   "source": [
    "emp = pd.read_csv('emplyee_data.csv')"
   ]
  },
  {
   "cell_type": "code",
   "execution_count": 7,
   "id": "38c1a33a",
   "metadata": {},
   "outputs": [
    {
     "data": {
      "text/html": [
       "<div>\n",
       "<style scoped>\n",
       "    .dataframe tbody tr th:only-of-type {\n",
       "        vertical-align: middle;\n",
       "    }\n",
       "\n",
       "    .dataframe tbody tr th {\n",
       "        vertical-align: top;\n",
       "    }\n",
       "\n",
       "    .dataframe thead th {\n",
       "        text-align: right;\n",
       "    }\n",
       "</style>\n",
       "<table border=\"1\" class=\"dataframe\">\n",
       "  <thead>\n",
       "    <tr style=\"text-align: right;\">\n",
       "      <th></th>\n",
       "      <th>ID</th>\n",
       "      <th>INCOME</th>\n",
       "      <th>DESIGNATION</th>\n",
       "    </tr>\n",
       "  </thead>\n",
       "  <tbody>\n",
       "    <tr>\n",
       "      <th>0</th>\n",
       "      <td>12</td>\n",
       "      <td>10000</td>\n",
       "      <td>SDE</td>\n",
       "    </tr>\n",
       "    <tr>\n",
       "      <th>1</th>\n",
       "      <td>13</td>\n",
       "      <td>7999</td>\n",
       "      <td>DA</td>\n",
       "    </tr>\n",
       "    <tr>\n",
       "      <th>2</th>\n",
       "      <td>14</td>\n",
       "      <td>9000</td>\n",
       "      <td>BA</td>\n",
       "    </tr>\n",
       "    <tr>\n",
       "      <th>3</th>\n",
       "      <td>15</td>\n",
       "      <td>12000</td>\n",
       "      <td>HR</td>\n",
       "    </tr>\n",
       "    <tr>\n",
       "      <th>4</th>\n",
       "      <td>16</td>\n",
       "      <td>15000</td>\n",
       "      <td>SDE</td>\n",
       "    </tr>\n",
       "  </tbody>\n",
       "</table>\n",
       "</div>"
      ],
      "text/plain": [
       "   ID  INCOME DESIGNATION\n",
       "0  12   10000         SDE\n",
       "1  13    7999          DA\n",
       "2  14    9000          BA\n",
       "3  15   12000          HR\n",
       "4  16   15000         SDE"
      ]
     },
     "execution_count": 7,
     "metadata": {},
     "output_type": "execute_result"
    }
   ],
   "source": [
    "emp.head()"
   ]
  },
  {
   "cell_type": "code",
   "execution_count": 3,
   "id": "ca4cac03",
   "metadata": {},
   "outputs": [],
   "source": [
    "pro = pd.read_csv('project_data.csv')"
   ]
  },
  {
   "cell_type": "code",
   "execution_count": 8,
   "id": "596f80da",
   "metadata": {},
   "outputs": [
    {
     "data": {
      "text/html": [
       "<div>\n",
       "<style scoped>\n",
       "    .dataframe tbody tr th:only-of-type {\n",
       "        vertical-align: middle;\n",
       "    }\n",
       "\n",
       "    .dataframe tbody tr th {\n",
       "        vertical-align: top;\n",
       "    }\n",
       "\n",
       "    .dataframe thead th {\n",
       "        text-align: right;\n",
       "    }\n",
       "</style>\n",
       "<table border=\"1\" class=\"dataframe\">\n",
       "  <thead>\n",
       "    <tr style=\"text-align: right;\">\n",
       "      <th></th>\n",
       "      <th>ID</th>\n",
       "      <th>PROJECTS DONE</th>\n",
       "      <th>DATE</th>\n",
       "    </tr>\n",
       "  </thead>\n",
       "  <tbody>\n",
       "    <tr>\n",
       "      <th>0</th>\n",
       "      <td>12</td>\n",
       "      <td>A</td>\n",
       "      <td>01-01-2023</td>\n",
       "    </tr>\n",
       "    <tr>\n",
       "      <th>1</th>\n",
       "      <td>12</td>\n",
       "      <td>B</td>\n",
       "      <td>02-01-2023</td>\n",
       "    </tr>\n",
       "    <tr>\n",
       "      <th>2</th>\n",
       "      <td>12</td>\n",
       "      <td>C</td>\n",
       "      <td>03-01-2023</td>\n",
       "    </tr>\n",
       "    <tr>\n",
       "      <th>3</th>\n",
       "      <td>15</td>\n",
       "      <td>A</td>\n",
       "      <td>04-01-2023</td>\n",
       "    </tr>\n",
       "    <tr>\n",
       "      <th>4</th>\n",
       "      <td>15</td>\n",
       "      <td>B</td>\n",
       "      <td>05-01-2023</td>\n",
       "    </tr>\n",
       "  </tbody>\n",
       "</table>\n",
       "</div>"
      ],
      "text/plain": [
       "   ID PROJECTS DONE        DATE\n",
       "0  12             A  01-01-2023\n",
       "1  12             B  02-01-2023\n",
       "2  12             C  03-01-2023\n",
       "3  15             A  04-01-2023\n",
       "4  15             B  05-01-2023"
      ]
     },
     "execution_count": 8,
     "metadata": {},
     "output_type": "execute_result"
    }
   ],
   "source": [
    "pro.head()"
   ]
  },
  {
   "cell_type": "code",
   "execution_count": 9,
   "id": "1f4c5442",
   "metadata": {},
   "outputs": [],
   "source": [
    "inner_df = pd.merge(emp, pro, on='ID', how='inner')"
   ]
  },
  {
   "cell_type": "code",
   "execution_count": 24,
   "id": "d21a8d2b",
   "metadata": {},
   "outputs": [
    {
     "data": {
      "text/html": [
       "<div>\n",
       "<style scoped>\n",
       "    .dataframe tbody tr th:only-of-type {\n",
       "        vertical-align: middle;\n",
       "    }\n",
       "\n",
       "    .dataframe tbody tr th {\n",
       "        vertical-align: top;\n",
       "    }\n",
       "\n",
       "    .dataframe thead th {\n",
       "        text-align: right;\n",
       "    }\n",
       "</style>\n",
       "<table border=\"1\" class=\"dataframe\">\n",
       "  <thead>\n",
       "    <tr style=\"text-align: right;\">\n",
       "      <th></th>\n",
       "      <th>ID</th>\n",
       "      <th>INCOME</th>\n",
       "      <th>DESIGNATION</th>\n",
       "      <th>PROJECTS DONE</th>\n",
       "      <th>DATE</th>\n",
       "    </tr>\n",
       "  </thead>\n",
       "  <tbody>\n",
       "    <tr>\n",
       "      <th>0</th>\n",
       "      <td>12</td>\n",
       "      <td>10000</td>\n",
       "      <td>SDE</td>\n",
       "      <td>A</td>\n",
       "      <td>01-01-2023</td>\n",
       "    </tr>\n",
       "    <tr>\n",
       "      <th>1</th>\n",
       "      <td>12</td>\n",
       "      <td>10000</td>\n",
       "      <td>SDE</td>\n",
       "      <td>B</td>\n",
       "      <td>02-01-2023</td>\n",
       "    </tr>\n",
       "    <tr>\n",
       "      <th>2</th>\n",
       "      <td>12</td>\n",
       "      <td>10000</td>\n",
       "      <td>SDE</td>\n",
       "      <td>C</td>\n",
       "      <td>03-01-2023</td>\n",
       "    </tr>\n",
       "    <tr>\n",
       "      <th>3</th>\n",
       "      <td>15</td>\n",
       "      <td>12000</td>\n",
       "      <td>HR</td>\n",
       "      <td>A</td>\n",
       "      <td>04-01-2023</td>\n",
       "    </tr>\n",
       "    <tr>\n",
       "      <th>4</th>\n",
       "      <td>15</td>\n",
       "      <td>12000</td>\n",
       "      <td>HR</td>\n",
       "      <td>B</td>\n",
       "      <td>05-01-2023</td>\n",
       "    </tr>\n",
       "  </tbody>\n",
       "</table>\n",
       "</div>"
      ],
      "text/plain": [
       "   ID  INCOME DESIGNATION PROJECTS DONE        DATE\n",
       "0  12   10000         SDE             A  01-01-2023\n",
       "1  12   10000         SDE             B  02-01-2023\n",
       "2  12   10000         SDE             C  03-01-2023\n",
       "3  15   12000          HR             A  04-01-2023\n",
       "4  15   12000          HR             B  05-01-2023"
      ]
     },
     "execution_count": 24,
     "metadata": {},
     "output_type": "execute_result"
    }
   ],
   "source": [
    "inner_df.head()"
   ]
  },
  {
   "cell_type": "code",
   "execution_count": 12,
   "id": "42328595",
   "metadata": {},
   "outputs": [],
   "source": [
    "left_df = pd.merge(emp, pro, on='ID', how='left')"
   ]
  },
  {
   "cell_type": "code",
   "execution_count": 13,
   "id": "46bcd02a",
   "metadata": {},
   "outputs": [
    {
     "data": {
      "text/plain": [
       "(33, 5)"
      ]
     },
     "execution_count": 13,
     "metadata": {},
     "output_type": "execute_result"
    }
   ],
   "source": [
    "left_df.shape"
   ]
  },
  {
   "cell_type": "code",
   "execution_count": 15,
   "id": "f8d79f1d",
   "metadata": {},
   "outputs": [],
   "source": [
    "right_df = pd.merge(emp, pro, on='ID', how='right')"
   ]
  },
  {
   "cell_type": "code",
   "execution_count": 16,
   "id": "96c372f5",
   "metadata": {},
   "outputs": [
    {
     "data": {
      "text/plain": [
       "(18, 5)"
      ]
     },
     "execution_count": 16,
     "metadata": {},
     "output_type": "execute_result"
    }
   ],
   "source": [
    "right_df.shape"
   ]
  },
  {
   "cell_type": "code",
   "execution_count": 18,
   "id": "e89520cb",
   "metadata": {},
   "outputs": [],
   "source": [
    "concatenated_df = pd.concat([emp, pro], ignore_index=True)"
   ]
  },
  {
   "cell_type": "code",
   "execution_count": 22,
   "id": "8d751385",
   "metadata": {},
   "outputs": [
    {
     "data": {
      "text/plain": [
       "(36, 5)"
      ]
     },
     "execution_count": 22,
     "metadata": {},
     "output_type": "execute_result"
    }
   ],
   "source": [
    "concatenated_df.shape"
   ]
  },
  {
   "cell_type": "code",
   "execution_count": null,
   "id": "64dc6014",
   "metadata": {},
   "outputs": [],
   "source": []
  }
 ],
 "metadata": {
  "kernelspec": {
   "display_name": "conda_python3",
   "language": "python",
   "name": "conda_python3"
  },
  "language_info": {
   "codemirror_mode": {
    "name": "ipython",
    "version": 3
   },
   "file_extension": ".py",
   "mimetype": "text/x-python",
   "name": "python",
   "nbconvert_exporter": "python",
   "pygments_lexer": "ipython3",
   "version": "3.6.13"
  }
 },
 "nbformat": 4,
 "nbformat_minor": 5
}
