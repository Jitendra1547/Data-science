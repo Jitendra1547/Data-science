{
 "cells": [
  {
   "cell_type": "code",
   "execution_count": 7,
   "id": "d90e4456",
   "metadata": {},
   "outputs": [],
   "source": [
    "import pandas as pd\n",
    "import numpy as np\n",
    "import "
   ]
  },
  {
   "cell_type": "markdown",
   "id": "81e297a4",
   "metadata": {},
   "source": [
    "# One-Sample T-Test"
   ]
  },
  {
   "cell_type": "code",
   "execution_count": 4,
   "id": "aa2341bf",
   "metadata": {},
   "outputs": [
    {
     "name": "stdout",
     "output_type": "stream",
     "text": [
      "Fail to reject the null hypothesis - Average weight is not significantly different from 50 grams\n"
     ]
    }
   ],
   "source": [
    "\n",
    "\n",
    "#Assignment: Test whether the average weight of a product is significantly different from a specified value (e.g., 50 grams).\n",
    "\n",
    "import scipy.stats as stats\n",
    "\n",
    "# Sample data\n",
    "data = [48, 49, 52, 47, 50, 51, 49, 50, 52, 48]\n",
    "\n",
    "# Perform one-sample t-test\n",
    "t_statistic, p_value = stats.ttest_1samp(data, 50)\n",
    "\n",
    "# Print results\n",
    "if p_value < 0.05:\n",
    "    print(\"Reject the null hypothesis - Average weight is significantly different from 50 grams\")\n",
    "else:\n",
    "    print(\"Fail to reject the null hypothesis - Average weight is not significantly different from 50 grams\")\n"
   ]
  },
  {
   "cell_type": "markdown",
   "id": "343574af",
   "metadata": {},
   "source": [
    "# Two-Sample T-Test\n"
   ]
  },
  {
   "cell_type": "code",
   "execution_count": 5,
   "id": "130344be",
   "metadata": {},
   "outputs": [
    {
     "name": "stdout",
     "output_type": "stream",
     "text": [
      "Reject the null hypothesis - Mean scores are significantly different between the two groups\n"
     ]
    }
   ],
   "source": [
    "\n",
    "\n",
    "# Assignment: Compare the mean scores of two groups (e.g., control group vs. experimental group) to determine if they are significantly different.\n",
    "    \n",
    "import scipy.stats as stats\n",
    "\n",
    "# Sample data for two groups\n",
    "group1 = [85, 88, 90, 82, 92, 87, 89]\n",
    "group2 = [78, 82, 80, 85, 79, 83, 81]\n",
    "\n",
    "# Perform two-sample t-test\n",
    "t_statistic, p_value = stats.ttest_ind(group1, group2)\n",
    "\n",
    "# Print results\n",
    "if p_value < 0.05:\n",
    "    print(\"Reject the null hypothesis - Mean scores are significantly different between the two groups\")\n",
    "else:\n",
    "    print(\"Fail to reject the null hypothesis - Mean scores are not significantly different between the two groups\")\n"
   ]
  },
  {
   "cell_type": "markdown",
   "id": "cad57687",
   "metadata": {},
   "source": [
    "# Chi-Square Test:\n",
    "\n",
    "\n"
   ]
  },
  {
   "cell_type": "code",
   "execution_count": 6,
   "id": "57746374",
   "metadata": {},
   "outputs": [
    {
     "name": "stdout",
     "output_type": "stream",
     "text": [
      "Fail to reject the null hypothesis - There is no significant association between the variables\n"
     ]
    }
   ],
   "source": [
    "# Assignment: Investigate if there is a significant association between two categorical variables (e.g., gender and voting preference).\n",
    "import scipy.stats as stats\n",
    "import numpy as np\n",
    "\n",
    "# Observed frequency counts\n",
    "observed = np.array([[50, 30, 20],\n",
    "                     [40, 45, 15]])\n",
    "\n",
    "# Perform chi-square test\n",
    "chi2_stat, p_value, dof, expected = stats.chi2_contingency(observed)\n",
    "\n",
    "# Print results\n",
    "if p_value < 0.05:\n",
    "    print(\"Reject the null hypothesis - There is a significant association between the variables\")\n",
    "else:\n",
    "    print(\"Fail to reject the null hypothesis - There is no significant association between the variables\")\n"
   ]
  },
  {
   "cell_type": "code",
   "execution_count": null,
   "id": "ec3ab5d0",
   "metadata": {},
   "outputs": [],
   "source": []
  },
  {
   "cell_type": "code",
   "execution_count": null,
   "id": "ffd7bff6",
   "metadata": {},
   "outputs": [],
   "source": []
  },
  {
   "cell_type": "code",
   "execution_count": null,
   "id": "26074ed9",
   "metadata": {},
   "outputs": [],
   "source": [
    "\n"
   ]
  },
  {
   "cell_type": "code",
   "execution_count": null,
   "id": "b84b9d5e",
   "metadata": {},
   "outputs": [],
   "source": []
  },
  {
   "cell_type": "code",
   "execution_count": null,
   "id": "f049ab68",
   "metadata": {},
   "outputs": [],
   "source": []
  },
  {
   "cell_type": "code",
   "execution_count": null,
   "id": "f991edc9",
   "metadata": {},
   "outputs": [],
   "source": []
  }
 ],
 "metadata": {
  "kernelspec": {
   "display_name": "conda_python3",
   "language": "python",
   "name": "conda_python3"
  },
  "language_info": {
   "codemirror_mode": {
    "name": "ipython",
    "version": 3
   },
   "file_extension": ".py",
   "mimetype": "text/x-python",
   "name": "python",
   "nbconvert_exporter": "python",
   "pygments_lexer": "ipython3",
   "version": "3.6.13"
  }
 },
 "nbformat": 4,
 "nbformat_minor": 5
}
